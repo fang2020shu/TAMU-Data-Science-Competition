{
  "nbformat": 4,
  "nbformat_minor": 0,
  "metadata": {
    "colab": {
      "provenance": [],
      "authorship_tag": "ABX9TyO5RkVoUyl2SMJ9Jm7s4mCA",
      "include_colab_link": true
    },
    "kernelspec": {
      "name": "python3",
      "display_name": "Python 3"
    },
    "language_info": {
      "name": "python"
    }
  },
  "cells": [
    {
      "cell_type": "markdown",
      "metadata": {
        "id": "view-in-github",
        "colab_type": "text"
      },
      "source": [
        "<a href=\"https://colab.research.google.com/github/fang2020shu/TAMU-Data-Science-Competition/blob/main/Tencent_Takehome_Time_Series_Prediction_LGBM.ipynb\" target=\"_parent\"><img src=\"https://colab.research.google.com/assets/colab-badge.svg\" alt=\"Open In Colab\"/></a>"
      ]
    },
    {
      "cell_type": "code",
      "execution_count": null,
      "metadata": {
        "colab": {
          "base_uri": "https://localhost:8080/"
        },
        "id": "6CFzp9VkP3YU",
        "outputId": "43a8953f-cefb-410c-8e20-67d1b9e9ddb5"
      },
      "outputs": [
        {
          "output_type": "stream",
          "name": "stdout",
          "text": [
            "Drive already mounted at /content/drive; to attempt to forcibly remount, call drive.mount(\"/content/drive\", force_remount=True).\n"
          ]
        }
      ],
      "source": [
        "from google.colab import drive\n",
        "drive.mount('/content/drive')"
      ]
    },
    {
      "cell_type": "code",
      "source": [
        "import numpy as np\n",
        "import pandas as pd\n",
        "import matplotlib.pyplot as plt\n",
        "from sklearn.preprocessing import StandardScaler"
      ],
      "metadata": {
        "id": "b9zfkQlPQKfB"
      },
      "execution_count": null,
      "outputs": []
    },
    {
      "cell_type": "code",
      "source": [
        "import statsmodels.formula.api as smf\n",
        "import statsmodels.tsa.api as smt\n",
        "import statsmodels.api as sm\n",
        "import scipy.stats as scs\n",
        "import lightgbm as lgb\n",
        "import time"
      ],
      "metadata": {
        "id": "dIm1cdeEU04A"
      },
      "execution_count": null,
      "outputs": []
    },
    {
      "cell_type": "code",
      "source": [
        "pip install lightgbm==3.3.0"
      ],
      "metadata": {
        "colab": {
          "base_uri": "https://localhost:8080/",
          "height": 373
        },
        "id": "jEls8xdXlH0j",
        "outputId": "c3df55b0-8b6b-4d3a-958e-33ab7576fe4f"
      },
      "execution_count": null,
      "outputs": [
        {
          "output_type": "stream",
          "name": "stdout",
          "text": [
            "Collecting lightgbm==3.3.0\n",
            "  Downloading lightgbm-3.3.0-py3-none-manylinux1_x86_64.whl (2.0 MB)\n",
            "\u001b[2K     \u001b[90m━━━━━━━━━━━━━━━━━━━━━━━━━━━━━━━━━━━━━━━━\u001b[0m \u001b[32m2.0/2.0 MB\u001b[0m \u001b[31m10.0 MB/s\u001b[0m eta \u001b[36m0:00:00\u001b[0m\n",
            "\u001b[?25hRequirement already satisfied: wheel in /usr/local/lib/python3.10/dist-packages (from lightgbm==3.3.0) (0.43.0)\n",
            "Requirement already satisfied: numpy in /usr/local/lib/python3.10/dist-packages (from lightgbm==3.3.0) (1.25.2)\n",
            "Requirement already satisfied: scipy in /usr/local/lib/python3.10/dist-packages (from lightgbm==3.3.0) (1.11.4)\n",
            "Requirement already satisfied: scikit-learn!=0.22.0 in /usr/local/lib/python3.10/dist-packages (from lightgbm==3.3.0) (1.2.2)\n",
            "Requirement already satisfied: joblib>=1.1.1 in /usr/local/lib/python3.10/dist-packages (from scikit-learn!=0.22.0->lightgbm==3.3.0) (1.3.2)\n",
            "Requirement already satisfied: threadpoolctl>=2.0.0 in /usr/local/lib/python3.10/dist-packages (from scikit-learn!=0.22.0->lightgbm==3.3.0) (3.4.0)\n",
            "Installing collected packages: lightgbm\n",
            "  Attempting uninstall: lightgbm\n",
            "    Found existing installation: lightgbm 4.3.0\n",
            "    Uninstalling lightgbm-4.3.0:\n",
            "      Successfully uninstalled lightgbm-4.3.0\n",
            "Successfully installed lightgbm-3.3.0\n"
          ]
        },
        {
          "output_type": "display_data",
          "data": {
            "application/vnd.colab-display-data+json": {
              "pip_warning": {
                "packages": [
                  "lightgbm"
                ]
              },
              "id": "225542cbe0f741f1a37c3d90c52f55be"
            }
          },
          "metadata": {}
        }
      ]
    },
    {
      "cell_type": "code",
      "source": [
        "import lightgbm as lgb"
      ],
      "metadata": {
        "id": "DS9yqbA2lLUs"
      },
      "execution_count": null,
      "outputs": []
    },
    {
      "cell_type": "code",
      "source": [
        "data1 = pd.read_csv(\"/content/drive/MyDrive/Tencent_Takehome/topline_metrics.csv\")\n",
        "data1.shape"
      ],
      "metadata": {
        "colab": {
          "base_uri": "https://localhost:8080/"
        },
        "id": "BAZmZc_YQS4G",
        "outputId": "f3bd64fe-533e-44c7-86dd-2d9b50cf79da"
      },
      "execution_count": null,
      "outputs": [
        {
          "output_type": "execute_result",
          "data": {
            "text/plain": [
              "(477081, 14)"
            ]
          },
          "metadata": {},
          "execution_count": 77
        }
      ]
    },
    {
      "cell_type": "code",
      "source": [
        "data1.drop(data1.columns[0], axis=1, inplace=True)"
      ],
      "metadata": {
        "id": "3hG0S7TDheMo"
      },
      "execution_count": null,
      "outputs": []
    },
    {
      "cell_type": "code",
      "source": [
        "data1.drop_duplicates(subset = [\"Date\",'Platform','Country'],keep=False, inplace = True)"
      ],
      "metadata": {
        "id": "9n-vpp71QsX6"
      },
      "execution_count": null,
      "outputs": []
    },
    {
      "cell_type": "code",
      "source": [
        "data1.shape"
      ],
      "metadata": {
        "colab": {
          "base_uri": "https://localhost:8080/"
        },
        "id": "U0hPlnmjSKuu",
        "outputId": "8c7639b3-08fa-471c-8ae7-bf29a86a4fdf"
      },
      "execution_count": null,
      "outputs": [
        {
          "output_type": "execute_result",
          "data": {
            "text/plain": [
              "(475577, 13)"
            ]
          },
          "metadata": {},
          "execution_count": 80
        }
      ]
    },
    {
      "cell_type": "code",
      "source": [
        "data1['Revenue'] = np.log1p(data1.Revenue.values)"
      ],
      "metadata": {
        "id": "nNYv2Q8crk-c"
      },
      "execution_count": null,
      "outputs": []
    },
    {
      "cell_type": "code",
      "source": [
        "sum(data1['Revenue']==0)"
      ],
      "metadata": {
        "colab": {
          "base_uri": "https://localhost:8080/"
        },
        "id": "lxlLvQQbrqhY",
        "outputId": "b802f2c6-bc96-4b1c-ba45-608bac76d24e"
      },
      "execution_count": null,
      "outputs": [
        {
          "output_type": "execute_result",
          "data": {
            "text/plain": [
              "37010"
            ]
          },
          "metadata": {},
          "execution_count": 83
        }
      ]
    },
    {
      "cell_type": "code",
      "source": [
        "data1.isnull().sum()"
      ],
      "metadata": {
        "colab": {
          "base_uri": "https://localhost:8080/"
        },
        "id": "JFKSYC4ESMFG",
        "outputId": "d751c114-05eb-4f1a-d3fc-2a00dded8dac"
      },
      "execution_count": null,
      "outputs": [
        {
          "output_type": "execute_result",
          "data": {
            "text/plain": [
              "Date                    0\n",
              "Platform                0\n",
              "Country                 0\n",
              "TRU                     0\n",
              "DAU                     0\n",
              "NRU                     0\n",
              "Revenue                 0\n",
              "Payer                   0\n",
              "UC Total Outflow (K)    0\n",
              "D1                      0\n",
              "D7                      0\n",
              "AOT(min)                0\n",
              "Country_code            0\n",
              "dtype: int64"
            ]
          },
          "metadata": {},
          "execution_count": 48
        }
      ]
    },
    {
      "cell_type": "code",
      "source": [
        "zero_counts = (data1 == 0).sum()\n",
        "zero_counts"
      ],
      "metadata": {
        "colab": {
          "base_uri": "https://localhost:8080/"
        },
        "id": "AU9zZN_lr3l8",
        "outputId": "bce0d261-7311-4db9-ffa4-40de9d64f70b"
      },
      "execution_count": null,
      "outputs": [
        {
          "output_type": "execute_result",
          "data": {
            "text/plain": [
              "Date                        0\n",
              "Platform                    0\n",
              "Country                     0\n",
              "TRU                         4\n",
              "DAU                         4\n",
              "NRU                     14516\n",
              "Revenue                 37010\n",
              "Payer                   36166\n",
              "UC Total Outflow (K)        0\n",
              "D1                      28376\n",
              "D7                      45577\n",
              "AOT(min)                    8\n",
              "Country_code                0\n",
              "dtype: int64"
            ]
          },
          "metadata": {},
          "execution_count": 84
        }
      ]
    },
    {
      "cell_type": "code",
      "source": [
        "data1 = data1[(data1 != 0).all(axis=1)]\n",
        "data1.shape"
      ],
      "metadata": {
        "colab": {
          "base_uri": "https://localhost:8080/"
        },
        "id": "drOSp3-1saVm",
        "outputId": "2397f9b0-92b2-44d7-e453-514b2fb20285"
      },
      "execution_count": null,
      "outputs": [
        {
          "output_type": "execute_result",
          "data": {
            "text/plain": [
              "(412735, 13)"
            ]
          },
          "metadata": {},
          "execution_count": 86
        }
      ]
    },
    {
      "cell_type": "code",
      "source": [
        "data1.info()"
      ],
      "metadata": {
        "colab": {
          "base_uri": "https://localhost:8080/"
        },
        "id": "AC7NvhIOqOxI",
        "outputId": "c4ca4f05-d9c1-45a2-af21-ac641d995969"
      },
      "execution_count": null,
      "outputs": [
        {
          "output_type": "stream",
          "name": "stdout",
          "text": [
            "<class 'pandas.core.frame.DataFrame'>\n",
            "Int64Index: 475577 entries, 0 to 477080\n",
            "Data columns (total 13 columns):\n",
            " #   Column                Non-Null Count   Dtype  \n",
            "---  ------                --------------   -----  \n",
            " 0   Date                  475577 non-null  object \n",
            " 1   Platform              475577 non-null  object \n",
            " 2   Country               475577 non-null  object \n",
            " 3   TRU                   475577 non-null  float64\n",
            " 4   DAU                   475577 non-null  float64\n",
            " 5   NRU                   475577 non-null  float64\n",
            " 6   Revenue               475577 non-null  float64\n",
            " 7   Payer                 475577 non-null  float64\n",
            " 8   UC Total Outflow (K)  475577 non-null  object \n",
            " 9   D1                    475577 non-null  float64\n",
            " 10  D7                    475577 non-null  float64\n",
            " 11  AOT(min)              475577 non-null  float64\n",
            " 12  Country_code          475577 non-null  object \n",
            "dtypes: float64(8), object(5)\n",
            "memory usage: 50.8+ MB\n"
          ]
        }
      ]
    },
    {
      "cell_type": "code",
      "source": [
        "data1['UC Total Outflow (K)'] = pd.to_numeric(data1['UC Total Outflow (K)'], errors='coerce')"
      ],
      "metadata": {
        "id": "D-vAntuNqX97"
      },
      "execution_count": null,
      "outputs": []
    },
    {
      "cell_type": "code",
      "source": [
        "data1.info()"
      ],
      "metadata": {
        "colab": {
          "base_uri": "https://localhost:8080/"
        },
        "id": "1OgsPuwcqai4",
        "outputId": "56ca15aa-5d4c-4c83-c640-dc57f9ca80a5"
      },
      "execution_count": null,
      "outputs": [
        {
          "output_type": "stream",
          "name": "stdout",
          "text": [
            "<class 'pandas.core.frame.DataFrame'>\n",
            "Int64Index: 412735 entries, 0 to 477080\n",
            "Data columns (total 13 columns):\n",
            " #   Column                Non-Null Count   Dtype  \n",
            "---  ------                --------------   -----  \n",
            " 0   Date                  412735 non-null  object \n",
            " 1   Platform              412735 non-null  object \n",
            " 2   Country               412735 non-null  object \n",
            " 3   TRU                   412735 non-null  float64\n",
            " 4   DAU                   412735 non-null  float64\n",
            " 5   NRU                   412735 non-null  float64\n",
            " 6   Revenue               412735 non-null  float64\n",
            " 7   Payer                 412735 non-null  float64\n",
            " 8   UC Total Outflow (K)  359740 non-null  float64\n",
            " 9   D1                    412735 non-null  float64\n",
            " 10  D7                    412735 non-null  float64\n",
            " 11  AOT(min)              412735 non-null  float64\n",
            " 12  Country_code          412735 non-null  object \n",
            "dtypes: float64(9), object(4)\n",
            "memory usage: 44.1+ MB\n"
          ]
        }
      ]
    },
    {
      "cell_type": "code",
      "source": [
        "data1['Date'] =  pd.to_datetime(data1['Date'])"
      ],
      "metadata": {
        "id": "7ErZIg02SOPr"
      },
      "execution_count": null,
      "outputs": []
    },
    {
      "cell_type": "code",
      "source": [
        "data1['Weekday'] = data1.Date.dt.dayofweek\n",
        "data1['month'] = data1.Date.dt.month\n",
        "data1['year'] = data1.Date.dt.year"
      ],
      "metadata": {
        "id": "GLip_FdtSYVh"
      },
      "execution_count": null,
      "outputs": []
    },
    {
      "cell_type": "code",
      "source": [
        "data1.info()"
      ],
      "metadata": {
        "colab": {
          "base_uri": "https://localhost:8080/"
        },
        "id": "0xEXrOUoy8ly",
        "outputId": "e9aeb629-85ad-45a2-bf0f-ced22e14020e"
      },
      "execution_count": null,
      "outputs": [
        {
          "output_type": "stream",
          "name": "stdout",
          "text": [
            "<class 'pandas.core.frame.DataFrame'>\n",
            "Int64Index: 412735 entries, 0 to 477080\n",
            "Data columns (total 16 columns):\n",
            " #   Column                Non-Null Count   Dtype         \n",
            "---  ------                --------------   -----         \n",
            " 0   Date                  412735 non-null  datetime64[ns]\n",
            " 1   Platform              412735 non-null  object        \n",
            " 2   Country               412735 non-null  object        \n",
            " 3   TRU                   412735 non-null  float64       \n",
            " 4   DAU                   412735 non-null  float64       \n",
            " 5   NRU                   412735 non-null  float64       \n",
            " 6   Revenue               412735 non-null  float64       \n",
            " 7   Payer                 412735 non-null  float64       \n",
            " 8   UC Total Outflow (K)  359740 non-null  float64       \n",
            " 9   D1                    412735 non-null  float64       \n",
            " 10  D7                    412735 non-null  float64       \n",
            " 11  AOT(min)              412735 non-null  float64       \n",
            " 12  Country_code          412735 non-null  object        \n",
            " 13  Weekday               412735 non-null  int64         \n",
            " 14  month                 412735 non-null  int64         \n",
            " 15  year                  412735 non-null  int64         \n",
            "dtypes: datetime64[ns](1), float64(9), int64(3), object(3)\n",
            "memory usage: 53.5+ MB\n"
          ]
        }
      ]
    },
    {
      "cell_type": "code",
      "source": [
        "usa = data1[(data1['Country_code'] == 'USA')]\n",
        "usa.shape\n"
      ],
      "metadata": {
        "colab": {
          "base_uri": "https://localhost:8080/"
        },
        "id": "8lCLpN2ZSl1y",
        "outputId": "183772e9-14bb-41a2-a86e-9aa7c12cd652"
      },
      "execution_count": null,
      "outputs": [
        {
          "output_type": "execute_result",
          "data": {
            "text/plain": [
              "(2177, 16)"
            ]
          },
          "metadata": {},
          "execution_count": 54
        }
      ]
    },
    {
      "cell_type": "code",
      "source": [
        "usa.head()"
      ],
      "metadata": {
        "colab": {
          "base_uri": "https://localhost:8080/",
          "height": 206
        },
        "id": "PvYyqoc4TVIF",
        "outputId": "19137957-0a76-48b7-fbb7-0c2ff67d9031"
      },
      "execution_count": null,
      "outputs": [
        {
          "output_type": "execute_result",
          "data": {
            "text/plain": [
              "           Date      Platform            Country         TRU        DAU  \\\n",
              "2481 2017-06-01      IOS(All)  United States(美国)  19399525.0   769873.0   \n",
              "2720 2017-06-01           ALL  United States(美国)  40231111.0  1597533.0   \n",
              "2876 2017-06-01  Android(All)  United States(美国)  21777285.0   826119.0   \n",
              "3144 2017-06-02           ALL  United States(美国)  40280496.0  1628993.0   \n",
              "3497 2017-06-02      IOS(All)  United States(美国)  19418706.0   761020.0   \n",
              "\n",
              "          NRU    Revenue    Payer UC Total Outflow (K)     D1     D7  \\\n",
              "2481  20574.0  110047.61   7058.0                11598  49.84  22.72   \n",
              "2720  49706.0  193720.96  12882.0                18340  51.78  22.57   \n",
              "2876  30506.0   82746.86   5812.0                 6743  53.07  22.77   \n",
              "3144  49385.0  208955.98  13320.0                18464  51.49  23.54   \n",
              "3497  19181.0  113880.84   7324.0                10954  47.44  22.90   \n",
              "\n",
              "      AOT(min) Country_code  Weekday  month  year  \n",
              "2481      87.5          USA        3      6  2017  \n",
              "2720      97.6          USA        3      6  2017  \n",
              "2876     106.2          USA        3      6  2017  \n",
              "3144      96.5          USA        4      6  2017  \n",
              "3497      86.9          USA        4      6  2017  "
            ],
            "text/html": [
              "\n",
              "  <div id=\"df-2bc9540d-b7ef-49c7-8d33-8272964402ee\" class=\"colab-df-container\">\n",
              "    <div>\n",
              "<style scoped>\n",
              "    .dataframe tbody tr th:only-of-type {\n",
              "        vertical-align: middle;\n",
              "    }\n",
              "\n",
              "    .dataframe tbody tr th {\n",
              "        vertical-align: top;\n",
              "    }\n",
              "\n",
              "    .dataframe thead th {\n",
              "        text-align: right;\n",
              "    }\n",
              "</style>\n",
              "<table border=\"1\" class=\"dataframe\">\n",
              "  <thead>\n",
              "    <tr style=\"text-align: right;\">\n",
              "      <th></th>\n",
              "      <th>Date</th>\n",
              "      <th>Platform</th>\n",
              "      <th>Country</th>\n",
              "      <th>TRU</th>\n",
              "      <th>DAU</th>\n",
              "      <th>NRU</th>\n",
              "      <th>Revenue</th>\n",
              "      <th>Payer</th>\n",
              "      <th>UC Total Outflow (K)</th>\n",
              "      <th>D1</th>\n",
              "      <th>D7</th>\n",
              "      <th>AOT(min)</th>\n",
              "      <th>Country_code</th>\n",
              "      <th>Weekday</th>\n",
              "      <th>month</th>\n",
              "      <th>year</th>\n",
              "    </tr>\n",
              "  </thead>\n",
              "  <tbody>\n",
              "    <tr>\n",
              "      <th>2481</th>\n",
              "      <td>2017-06-01</td>\n",
              "      <td>IOS(All)</td>\n",
              "      <td>United States(美国)</td>\n",
              "      <td>19399525.0</td>\n",
              "      <td>769873.0</td>\n",
              "      <td>20574.0</td>\n",
              "      <td>110047.61</td>\n",
              "      <td>7058.0</td>\n",
              "      <td>11598</td>\n",
              "      <td>49.84</td>\n",
              "      <td>22.72</td>\n",
              "      <td>87.5</td>\n",
              "      <td>USA</td>\n",
              "      <td>3</td>\n",
              "      <td>6</td>\n",
              "      <td>2017</td>\n",
              "    </tr>\n",
              "    <tr>\n",
              "      <th>2720</th>\n",
              "      <td>2017-06-01</td>\n",
              "      <td>ALL</td>\n",
              "      <td>United States(美国)</td>\n",
              "      <td>40231111.0</td>\n",
              "      <td>1597533.0</td>\n",
              "      <td>49706.0</td>\n",
              "      <td>193720.96</td>\n",
              "      <td>12882.0</td>\n",
              "      <td>18340</td>\n",
              "      <td>51.78</td>\n",
              "      <td>22.57</td>\n",
              "      <td>97.6</td>\n",
              "      <td>USA</td>\n",
              "      <td>3</td>\n",
              "      <td>6</td>\n",
              "      <td>2017</td>\n",
              "    </tr>\n",
              "    <tr>\n",
              "      <th>2876</th>\n",
              "      <td>2017-06-01</td>\n",
              "      <td>Android(All)</td>\n",
              "      <td>United States(美国)</td>\n",
              "      <td>21777285.0</td>\n",
              "      <td>826119.0</td>\n",
              "      <td>30506.0</td>\n",
              "      <td>82746.86</td>\n",
              "      <td>5812.0</td>\n",
              "      <td>6743</td>\n",
              "      <td>53.07</td>\n",
              "      <td>22.77</td>\n",
              "      <td>106.2</td>\n",
              "      <td>USA</td>\n",
              "      <td>3</td>\n",
              "      <td>6</td>\n",
              "      <td>2017</td>\n",
              "    </tr>\n",
              "    <tr>\n",
              "      <th>3144</th>\n",
              "      <td>2017-06-02</td>\n",
              "      <td>ALL</td>\n",
              "      <td>United States(美国)</td>\n",
              "      <td>40280496.0</td>\n",
              "      <td>1628993.0</td>\n",
              "      <td>49385.0</td>\n",
              "      <td>208955.98</td>\n",
              "      <td>13320.0</td>\n",
              "      <td>18464</td>\n",
              "      <td>51.49</td>\n",
              "      <td>23.54</td>\n",
              "      <td>96.5</td>\n",
              "      <td>USA</td>\n",
              "      <td>4</td>\n",
              "      <td>6</td>\n",
              "      <td>2017</td>\n",
              "    </tr>\n",
              "    <tr>\n",
              "      <th>3497</th>\n",
              "      <td>2017-06-02</td>\n",
              "      <td>IOS(All)</td>\n",
              "      <td>United States(美国)</td>\n",
              "      <td>19418706.0</td>\n",
              "      <td>761020.0</td>\n",
              "      <td>19181.0</td>\n",
              "      <td>113880.84</td>\n",
              "      <td>7324.0</td>\n",
              "      <td>10954</td>\n",
              "      <td>47.44</td>\n",
              "      <td>22.90</td>\n",
              "      <td>86.9</td>\n",
              "      <td>USA</td>\n",
              "      <td>4</td>\n",
              "      <td>6</td>\n",
              "      <td>2017</td>\n",
              "    </tr>\n",
              "  </tbody>\n",
              "</table>\n",
              "</div>\n",
              "    <div class=\"colab-df-buttons\">\n",
              "\n",
              "  <div class=\"colab-df-container\">\n",
              "    <button class=\"colab-df-convert\" onclick=\"convertToInteractive('df-2bc9540d-b7ef-49c7-8d33-8272964402ee')\"\n",
              "            title=\"Convert this dataframe to an interactive table.\"\n",
              "            style=\"display:none;\">\n",
              "\n",
              "  <svg xmlns=\"http://www.w3.org/2000/svg\" height=\"24px\" viewBox=\"0 -960 960 960\">\n",
              "    <path d=\"M120-120v-720h720v720H120Zm60-500h600v-160H180v160Zm220 220h160v-160H400v160Zm0 220h160v-160H400v160ZM180-400h160v-160H180v160Zm440 0h160v-160H620v160ZM180-180h160v-160H180v160Zm440 0h160v-160H620v160Z\"/>\n",
              "  </svg>\n",
              "    </button>\n",
              "\n",
              "  <style>\n",
              "    .colab-df-container {\n",
              "      display:flex;\n",
              "      gap: 12px;\n",
              "    }\n",
              "\n",
              "    .colab-df-convert {\n",
              "      background-color: #E8F0FE;\n",
              "      border: none;\n",
              "      border-radius: 50%;\n",
              "      cursor: pointer;\n",
              "      display: none;\n",
              "      fill: #1967D2;\n",
              "      height: 32px;\n",
              "      padding: 0 0 0 0;\n",
              "      width: 32px;\n",
              "    }\n",
              "\n",
              "    .colab-df-convert:hover {\n",
              "      background-color: #E2EBFA;\n",
              "      box-shadow: 0px 1px 2px rgba(60, 64, 67, 0.3), 0px 1px 3px 1px rgba(60, 64, 67, 0.15);\n",
              "      fill: #174EA6;\n",
              "    }\n",
              "\n",
              "    .colab-df-buttons div {\n",
              "      margin-bottom: 4px;\n",
              "    }\n",
              "\n",
              "    [theme=dark] .colab-df-convert {\n",
              "      background-color: #3B4455;\n",
              "      fill: #D2E3FC;\n",
              "    }\n",
              "\n",
              "    [theme=dark] .colab-df-convert:hover {\n",
              "      background-color: #434B5C;\n",
              "      box-shadow: 0px 1px 3px 1px rgba(0, 0, 0, 0.15);\n",
              "      filter: drop-shadow(0px 1px 2px rgba(0, 0, 0, 0.3));\n",
              "      fill: #FFFFFF;\n",
              "    }\n",
              "  </style>\n",
              "\n",
              "    <script>\n",
              "      const buttonEl =\n",
              "        document.querySelector('#df-2bc9540d-b7ef-49c7-8d33-8272964402ee button.colab-df-convert');\n",
              "      buttonEl.style.display =\n",
              "        google.colab.kernel.accessAllowed ? 'block' : 'none';\n",
              "\n",
              "      async function convertToInteractive(key) {\n",
              "        const element = document.querySelector('#df-2bc9540d-b7ef-49c7-8d33-8272964402ee');\n",
              "        const dataTable =\n",
              "          await google.colab.kernel.invokeFunction('convertToInteractive',\n",
              "                                                    [key], {});\n",
              "        if (!dataTable) return;\n",
              "\n",
              "        const docLinkHtml = 'Like what you see? Visit the ' +\n",
              "          '<a target=\"_blank\" href=https://colab.research.google.com/notebooks/data_table.ipynb>data table notebook</a>'\n",
              "          + ' to learn more about interactive tables.';\n",
              "        element.innerHTML = '';\n",
              "        dataTable['output_type'] = 'display_data';\n",
              "        await google.colab.output.renderOutput(dataTable, element);\n",
              "        const docLink = document.createElement('div');\n",
              "        docLink.innerHTML = docLinkHtml;\n",
              "        element.appendChild(docLink);\n",
              "      }\n",
              "    </script>\n",
              "  </div>\n",
              "\n",
              "\n",
              "<div id=\"df-b08cbff9-ff14-4fd9-8908-103070b1c9c8\">\n",
              "  <button class=\"colab-df-quickchart\" onclick=\"quickchart('df-b08cbff9-ff14-4fd9-8908-103070b1c9c8')\"\n",
              "            title=\"Suggest charts\"\n",
              "            style=\"display:none;\">\n",
              "\n",
              "<svg xmlns=\"http://www.w3.org/2000/svg\" height=\"24px\"viewBox=\"0 0 24 24\"\n",
              "     width=\"24px\">\n",
              "    <g>\n",
              "        <path d=\"M19 3H5c-1.1 0-2 .9-2 2v14c0 1.1.9 2 2 2h14c1.1 0 2-.9 2-2V5c0-1.1-.9-2-2-2zM9 17H7v-7h2v7zm4 0h-2V7h2v10zm4 0h-2v-4h2v4z\"/>\n",
              "    </g>\n",
              "</svg>\n",
              "  </button>\n",
              "\n",
              "<style>\n",
              "  .colab-df-quickchart {\n",
              "      --bg-color: #E8F0FE;\n",
              "      --fill-color: #1967D2;\n",
              "      --hover-bg-color: #E2EBFA;\n",
              "      --hover-fill-color: #174EA6;\n",
              "      --disabled-fill-color: #AAA;\n",
              "      --disabled-bg-color: #DDD;\n",
              "  }\n",
              "\n",
              "  [theme=dark] .colab-df-quickchart {\n",
              "      --bg-color: #3B4455;\n",
              "      --fill-color: #D2E3FC;\n",
              "      --hover-bg-color: #434B5C;\n",
              "      --hover-fill-color: #FFFFFF;\n",
              "      --disabled-bg-color: #3B4455;\n",
              "      --disabled-fill-color: #666;\n",
              "  }\n",
              "\n",
              "  .colab-df-quickchart {\n",
              "    background-color: var(--bg-color);\n",
              "    border: none;\n",
              "    border-radius: 50%;\n",
              "    cursor: pointer;\n",
              "    display: none;\n",
              "    fill: var(--fill-color);\n",
              "    height: 32px;\n",
              "    padding: 0;\n",
              "    width: 32px;\n",
              "  }\n",
              "\n",
              "  .colab-df-quickchart:hover {\n",
              "    background-color: var(--hover-bg-color);\n",
              "    box-shadow: 0 1px 2px rgba(60, 64, 67, 0.3), 0 1px 3px 1px rgba(60, 64, 67, 0.15);\n",
              "    fill: var(--button-hover-fill-color);\n",
              "  }\n",
              "\n",
              "  .colab-df-quickchart-complete:disabled,\n",
              "  .colab-df-quickchart-complete:disabled:hover {\n",
              "    background-color: var(--disabled-bg-color);\n",
              "    fill: var(--disabled-fill-color);\n",
              "    box-shadow: none;\n",
              "  }\n",
              "\n",
              "  .colab-df-spinner {\n",
              "    border: 2px solid var(--fill-color);\n",
              "    border-color: transparent;\n",
              "    border-bottom-color: var(--fill-color);\n",
              "    animation:\n",
              "      spin 1s steps(1) infinite;\n",
              "  }\n",
              "\n",
              "  @keyframes spin {\n",
              "    0% {\n",
              "      border-color: transparent;\n",
              "      border-bottom-color: var(--fill-color);\n",
              "      border-left-color: var(--fill-color);\n",
              "    }\n",
              "    20% {\n",
              "      border-color: transparent;\n",
              "      border-left-color: var(--fill-color);\n",
              "      border-top-color: var(--fill-color);\n",
              "    }\n",
              "    30% {\n",
              "      border-color: transparent;\n",
              "      border-left-color: var(--fill-color);\n",
              "      border-top-color: var(--fill-color);\n",
              "      border-right-color: var(--fill-color);\n",
              "    }\n",
              "    40% {\n",
              "      border-color: transparent;\n",
              "      border-right-color: var(--fill-color);\n",
              "      border-top-color: var(--fill-color);\n",
              "    }\n",
              "    60% {\n",
              "      border-color: transparent;\n",
              "      border-right-color: var(--fill-color);\n",
              "    }\n",
              "    80% {\n",
              "      border-color: transparent;\n",
              "      border-right-color: var(--fill-color);\n",
              "      border-bottom-color: var(--fill-color);\n",
              "    }\n",
              "    90% {\n",
              "      border-color: transparent;\n",
              "      border-bottom-color: var(--fill-color);\n",
              "    }\n",
              "  }\n",
              "</style>\n",
              "\n",
              "  <script>\n",
              "    async function quickchart(key) {\n",
              "      const quickchartButtonEl =\n",
              "        document.querySelector('#' + key + ' button');\n",
              "      quickchartButtonEl.disabled = true;  // To prevent multiple clicks.\n",
              "      quickchartButtonEl.classList.add('colab-df-spinner');\n",
              "      try {\n",
              "        const charts = await google.colab.kernel.invokeFunction(\n",
              "            'suggestCharts', [key], {});\n",
              "      } catch (error) {\n",
              "        console.error('Error during call to suggestCharts:', error);\n",
              "      }\n",
              "      quickchartButtonEl.classList.remove('colab-df-spinner');\n",
              "      quickchartButtonEl.classList.add('colab-df-quickchart-complete');\n",
              "    }\n",
              "    (() => {\n",
              "      let quickchartButtonEl =\n",
              "        document.querySelector('#df-b08cbff9-ff14-4fd9-8908-103070b1c9c8 button');\n",
              "      quickchartButtonEl.style.display =\n",
              "        google.colab.kernel.accessAllowed ? 'block' : 'none';\n",
              "    })();\n",
              "  </script>\n",
              "</div>\n",
              "\n",
              "    </div>\n",
              "  </div>\n"
            ],
            "application/vnd.google.colaboratory.intrinsic+json": {
              "type": "dataframe",
              "variable_name": "usa",
              "summary": "{\n  \"name\": \"usa\",\n  \"rows\": 2177,\n  \"fields\": [\n    {\n      \"column\": \"Date\",\n      \"properties\": {\n        \"dtype\": \"date\",\n        \"min\": \"2017-06-01 00:00:00\",\n        \"max\": \"2019-05-31 00:00:00\",\n        \"num_unique_values\": 726,\n        \"samples\": [\n          \"2018-04-25 00:00:00\",\n          \"2018-11-06 00:00:00\",\n          \"2019-01-06 00:00:00\"\n        ],\n        \"semantic_type\": \"\",\n        \"description\": \"\"\n      }\n    },\n    {\n      \"column\": \"Platform\",\n      \"properties\": {\n        \"dtype\": \"category\",\n        \"num_unique_values\": 4,\n        \"samples\": [\n          \"ALL\",\n          \"IOS\",\n          \"IOS(All)\"\n        ],\n        \"semantic_type\": \"\",\n        \"description\": \"\"\n      }\n    },\n    {\n      \"column\": \"Country\",\n      \"properties\": {\n        \"dtype\": \"category\",\n        \"num_unique_values\": 1,\n        \"samples\": [\n          \"United States(\\u7f8e\\u56fd)\"\n        ],\n        \"semantic_type\": \"\",\n        \"description\": \"\"\n      }\n    },\n    {\n      \"column\": \"TRU\",\n      \"properties\": {\n        \"dtype\": \"number\",\n        \"std\": 12021897.17882713,\n        \"min\": 19399525.0,\n        \"max\": 59338378.0,\n        \"num_unique_values\": 2177,\n        \"samples\": [\n          21387800.0\n        ],\n        \"semantic_type\": \"\",\n        \"description\": \"\"\n      }\n    },\n    {\n      \"column\": \"DAU\",\n      \"properties\": {\n        \"dtype\": \"number\",\n        \"std\": 353959.825783984,\n        \"min\": 406129.0,\n        \"max\": 1766177.0,\n        \"num_unique_values\": 2175,\n        \"samples\": [\n          652231.0\n        ],\n        \"semantic_type\": \"\",\n        \"description\": \"\"\n      }\n    },\n    {\n      \"column\": \"NRU\",\n      \"properties\": {\n        \"dtype\": \"number\",\n        \"std\": 15851.20782607078,\n        \"min\": 8800.0,\n        \"max\": 218909.0,\n        \"num_unique_values\": 2126,\n        \"samples\": [\n          19169.0\n        ],\n        \"semantic_type\": \"\",\n        \"description\": \"\"\n      }\n    },\n    {\n      \"column\": \"Revenue\",\n      \"properties\": {\n        \"dtype\": \"number\",\n        \"std\": 176826.56729507062,\n        \"min\": 38466.69,\n        \"max\": 2062416.58,\n        \"num_unique_values\": 2172,\n        \"samples\": [\n          318141.18\n        ],\n        \"semantic_type\": \"\",\n        \"description\": \"\"\n      }\n    },\n    {\n      \"column\": \"Payer\",\n      \"properties\": {\n        \"dtype\": \"number\",\n        \"std\": 7171.0365978075915,\n        \"min\": 3250.0,\n        \"max\": 82135.0,\n        \"num_unique_values\": 2014,\n        \"samples\": [\n          11023.0\n        ],\n        \"semantic_type\": \"\",\n        \"description\": \"\"\n      }\n    },\n    {\n      \"column\": \"UC Total Outflow (K)\",\n      \"properties\": {\n        \"dtype\": \"string\",\n        \"num_unique_values\": 1185,\n        \"samples\": [\n          \"21873\"\n        ],\n        \"semantic_type\": \"\",\n        \"description\": \"\"\n      }\n    },\n    {\n      \"column\": \"D1\",\n      \"properties\": {\n        \"dtype\": \"number\",\n        \"std\": 7.616566308849999,\n        \"min\": 0.0,\n        \"max\": 84.85,\n        \"num_unique_values\": 1222,\n        \"samples\": [\n          47.9\n        ],\n        \"semantic_type\": \"\",\n        \"description\": \"\"\n      }\n    },\n    {\n      \"column\": \"D7\",\n      \"properties\": {\n        \"dtype\": \"number\",\n        \"std\": 3.879006894907565,\n        \"min\": 0.0,\n        \"max\": 37.52,\n        \"num_unique_values\": 794,\n        \"samples\": [\n          20.48\n        ],\n        \"semantic_type\": \"\",\n        \"description\": \"\"\n      }\n    },\n    {\n      \"column\": \"AOT(min)\",\n      \"properties\": {\n        \"dtype\": \"number\",\n        \"std\": 15.502953558045208,\n        \"min\": 49.7,\n        \"max\": 151.5,\n        \"num_unique_values\": 503,\n        \"samples\": [\n          89.3\n        ],\n        \"semantic_type\": \"\",\n        \"description\": \"\"\n      }\n    },\n    {\n      \"column\": \"Country_code\",\n      \"properties\": {\n        \"dtype\": \"category\",\n        \"num_unique_values\": 1,\n        \"samples\": [\n          \"USA\"\n        ],\n        \"semantic_type\": \"\",\n        \"description\": \"\"\n      }\n    },\n    {\n      \"column\": \"Weekday\",\n      \"properties\": {\n        \"dtype\": \"number\",\n        \"std\": 1,\n        \"min\": 0,\n        \"max\": 6,\n        \"num_unique_values\": 7,\n        \"samples\": [\n          3\n        ],\n        \"semantic_type\": \"\",\n        \"description\": \"\"\n      }\n    },\n    {\n      \"column\": \"month\",\n      \"properties\": {\n        \"dtype\": \"number\",\n        \"std\": 3,\n        \"min\": 1,\n        \"max\": 12,\n        \"num_unique_values\": 12,\n        \"samples\": [\n          4\n        ],\n        \"semantic_type\": \"\",\n        \"description\": \"\"\n      }\n    },\n    {\n      \"column\": \"year\",\n      \"properties\": {\n        \"dtype\": \"number\",\n        \"std\": 0,\n        \"min\": 2017,\n        \"max\": 2019,\n        \"num_unique_values\": 3,\n        \"samples\": [\n          2017\n        ],\n        \"semantic_type\": \"\",\n        \"description\": \"\"\n      }\n    }\n  ]\n}"
            }
          },
          "metadata": {},
          "execution_count": 81
        }
      ]
    },
    {
      "cell_type": "code",
      "source": [
        "usa_ALL = usa[usa['Platform']=='ALL']"
      ],
      "metadata": {
        "id": "e1SsSlqATmzB"
      },
      "execution_count": null,
      "outputs": []
    },
    {
      "cell_type": "code",
      "source": [
        "usa_ALL.shape"
      ],
      "metadata": {
        "colab": {
          "base_uri": "https://localhost:8080/"
        },
        "id": "l5i32nFnTvhH",
        "outputId": "67d0dc82-6a04-457a-9945-3c2cf2f2fa2f"
      },
      "execution_count": null,
      "outputs": [
        {
          "output_type": "execute_result",
          "data": {
            "text/plain": [
              "(725, 16)"
            ]
          },
          "metadata": {},
          "execution_count": 83
        }
      ]
    },
    {
      "cell_type": "code",
      "source": [
        "plt.plot(usa_ALL['Revenue'])\n",
        "plt.xlabel('Days')\n",
        "plt.ylabel('Revenue')\n",
        "plt.show()"
      ],
      "metadata": {
        "colab": {
          "base_uri": "https://localhost:8080/",
          "height": 465
        },
        "id": "Yb-NyxEoTyhK",
        "outputId": "48cb1508-c4b8-4718-9eea-0418c2fb30ef"
      },
      "execution_count": null,
      "outputs": [
        {
          "output_type": "display_data",
          "data": {
            "text/plain": [
              "<Figure size 640x480 with 1 Axes>"
            ],
            "image/png": "[encoded data removed]"
          },
          "metadata": {}
        }
      ]
    },
    {
      "cell_type": "code",
      "source": [
        "def tsplot(y, lags=None, figsize=(12, 7), style='bmh'):\n",
        "    \"\"\"\n",
        "        Plot time series, its ACF and PACF, calculate Dickey–Fuller test\n",
        "\n",
        "        y - timeseries\n",
        "        lags - how many lags to include in ACF, PACF calculation\n",
        "    \"\"\"\n",
        "    if not isinstance(y, pd.Series):\n",
        "        y = pd.Series(y)\n",
        "\n",
        "    with plt.style.context(style):\n",
        "        fig = plt.figure(figsize=figsize)\n",
        "        layout = (2, 2)\n",
        "        ts_ax = plt.subplot2grid(layout, (0, 0), colspan=2)\n",
        "        acf_ax = plt.subplot2grid(layout, (1, 0))\n",
        "        pacf_ax = plt.subplot2grid(layout, (1, 1))\n",
        "\n",
        "        y.plot(ax=ts_ax)\n",
        "        p_value = sm.tsa.stattools.adfuller(y)[1]\n",
        "        ts_ax.set_title('Time Series Analysis Plots\\n Dickey-Fuller: p={0:.5f}'.format(p_value))\n",
        "        smt.graphics.plot_acf(y, lags=lags, ax=acf_ax)\n",
        "        smt.graphics.plot_pacf(y, lags=lags, ax=pacf_ax)\n",
        "        plt.tight_layout()"
      ],
      "metadata": {
        "id": "Gr8F-nDtUup1"
      },
      "execution_count": null,
      "outputs": []
    },
    {
      "cell_type": "code",
      "source": [
        "tsplot(usa_ALL.Revenue)"
      ],
      "metadata": {
        "colab": {
          "base_uri": "https://localhost:8080/",
          "height": 707
        },
        "id": "U6yQXIkKUk9a",
        "outputId": "46b1a7fc-83a4-43a6-a2b3-c60764afe8e8"
      },
      "execution_count": null,
      "outputs": [
        {
          "output_type": "display_data",
          "data": {
            "text/plain": [
              "<Figure size 1200x700 with 3 Axes>"
            ],
            "image/png": "[encoded data removed]"
          },
          "metadata": {}
        }
      ]
    },
    {
      "cell_type": "code",
      "source": [
        "rev = pd.DataFrame(usa_ALL['Revenue'])\n",
        "plt.figure(figsize=(8, 6))\n",
        "plt.hist(rev['Revenue'], bins=10, color='skyblue', edgecolor='black')\n",
        "plt.xlabel('Values')\n",
        "plt.ylabel('Frequency')\n",
        "plt.title('Distribution of column_name')\n",
        "plt.grid(True)\n",
        "plt.show()"
      ],
      "metadata": {
        "colab": {
          "base_uri": "https://localhost:8080/",
          "height": 564
        },
        "id": "aSIyv0SXU-0J",
        "outputId": "f7a096a9-d3d2-42c0-858b-97d5c4d5b583"
      },
      "execution_count": null,
      "outputs": [
        {
          "output_type": "display_data",
          "data": {
            "text/plain": [
              "<Figure size 800x600 with 1 Axes>"
            ],
            "image/png": "[encoded data removed]"
          },
          "metadata": {}
        }
      ]
    },
    {
      "cell_type": "code",
      "source": [
        "rev = pd.DataFrame(usa_ALL['Revenue'])\n",
        "plt.figure(figsize=(8, 6))\n",
        "plt.hist(np.log(rev['Revenue']), bins=10, color='skyblue', edgecolor='black')\n",
        "plt.xlabel('Values')\n",
        "plt.ylabel('Frequency')\n",
        "plt.title('Distribution of column_name')\n",
        "plt.grid(True)\n",
        "plt.show()"
      ],
      "metadata": {
        "colab": {
          "base_uri": "https://localhost:8080/",
          "height": 564
        },
        "id": "9X1tLjIPVgiW",
        "outputId": "17c511e9-2c85-440c-f44d-e58a6053877f"
      },
      "execution_count": null,
      "outputs": [
        {
          "output_type": "display_data",
          "data": {
            "text/plain": [
              "<Figure size 800x600 with 1 Axes>"
            ],
            "image/png": "[encoded data removed]"
          },
          "metadata": {}
        }
      ]
    },
    {
      "cell_type": "code",
      "source": [],
      "metadata": {
        "id": "h_pZvS-NVjD1"
      },
      "execution_count": null,
      "outputs": []
    },
    {
      "cell_type": "code",
      "source": [
        "# Creating lag features\n",
        "def create_lag_features(df, gpby_cols, target_col, lags):\n",
        "    gpby = df.groupby(gpby_cols)\n",
        "    for i in lags:\n",
        "        df['_'.join([target_col, 'lag', str(i)])] = gpby[target_col].shift(i).values + np.random.normal(scale=1.6, size=(len(df),))\n",
        "    return df\n",
        "\n",
        "# Creating rolling mean features\n",
        "def create_rmean_features(df, gpby_cols, target_col, windows, min_periods=2, shift=1, win_type=None):\n",
        "    gpby = df.groupby(gpby_cols)\n",
        "    for w in windows:\n",
        "        df['_'.join([target_col, 'rmean', str(w)])] = gpby[target_col].shift(shift).rolling(window=w, min_periods=min_periods,win_type=win_type).mean().values +np.random.normal(scale=1.6, size=(len(df),))\n",
        "    return df\n",
        "\n",
        "# Creating rolling median features\n",
        "def create_rmed_features(df, gpby_cols, target_col, windows, min_periods=2, shift=1, win_type=None):\n",
        "    gpby = df.groupby(gpby_cols)\n",
        "    for w in windows:\n",
        "        df['_'.join([target_col, 'rmed', str(w)])] = gpby[target_col].shift(shift).rolling(window=w, min_periods=min_periods,win_type=win_type).median().values +\\\n",
        "            np.random.normal(scale=1.6, size=(len(df),))\n",
        "    return df\n",
        "\n",
        "# Creating exponentially weighted mean features\n",
        "def create_ewm_features(df, gpby_cols, target_col, alpha=[0.9], shift=[1]):\n",
        "    gpby = df.groupby(gpby_cols)\n",
        "    for a in alpha:\n",
        "        for s in shift:\n",
        "            df['_'.join([target_col, 'lag', str(s), 'ewm', str(a)])] = gpby[target_col].shift(s).ewm(alpha=a).mean().values\n",
        "    return df"
      ],
      "metadata": {
        "id": "TV2_yK31XSel"
      },
      "execution_count": null,
      "outputs": []
    },
    {
      "cell_type": "code",
      "source": [
        "year_frequency = usa_ALL['year'].value_counts().reset_index()\n",
        "year_frequency.columns = ['year', 'frequency']\n",
        "\n",
        "# Calculate proportion of each year\n",
        "year_frequency['proportion'] = year_frequency['frequency'] / len(usa_ALL)\n",
        "\n",
        "print(year_frequency)"
      ],
      "metadata": {
        "colab": {
          "base_uri": "https://localhost:8080/"
        },
        "id": "NQ3uR7mUXjQ4",
        "outputId": "be39b9cf-d862-489d-96de-52d5d8bd72bf"
      },
      "execution_count": null,
      "outputs": [
        {
          "output_type": "stream",
          "name": "stdout",
          "text": [
            "   year  frequency  proportion\n",
            "0  2018        362    0.499310\n",
            "1  2017        212    0.292414\n",
            "2  2019        151    0.208276\n"
          ]
        }
      ]
    },
    {
      "cell_type": "code",
      "source": [
        "usa_ALL['year'].nunique()"
      ],
      "metadata": {
        "colab": {
          "base_uri": "https://localhost:8080/"
        },
        "id": "dtQMJJ0RZdrj",
        "outputId": "fe833fc6-d1a5-4a2d-bfb4-a5768bd66eb3"
      },
      "execution_count": null,
      "outputs": [
        {
          "output_type": "execute_result",
          "data": {
            "text/plain": [
              "3"
            ]
          },
          "metadata": {},
          "execution_count": 58
        }
      ]
    },
    {
      "cell_type": "code",
      "source": [
        "data1_copy = data1.copy()"
      ],
      "metadata": {
        "id": "1sm-oev3aXdC"
      },
      "execution_count": null,
      "outputs": []
    },
    {
      "cell_type": "code",
      "source": [
        "data1_copy = create_lag_features(data1_copy, gpby_cols=['Country_code','Platform'], target_col='Revenue',\n",
        "                               lags=[151,158,165,172,179,186,193,200,207,214,221,228,235])"
      ],
      "metadata": {
        "id": "UjrNfJN_aOht"
      },
      "execution_count": null,
      "outputs": []
    },
    {
      "cell_type": "code",
      "source": [
        "data1_copy.head()"
      ],
      "metadata": {
        "colab": {
          "base_uri": "https://localhost:8080/",
          "height": 394
        },
        "id": "eSRAWSotbxBf",
        "outputId": "71ad2a07-3051-454f-bb72-1770973488be"
      },
      "execution_count": null,
      "outputs": [
        {
          "output_type": "execute_result",
          "data": {
            "text/plain": [
              "        Date Platform Country          TRU         DAU       NRU     Revenue  \\\n",
              "0 2017-06-01  Android     ALL  328115353.0  37040731.0  659119.0  1402681.83   \n",
              "1 2017-06-01      IOS     ALL  100552561.0  10251221.0  134293.0  1341730.18   \n",
              "2 2017-06-01      ALL     ALL  426084361.0  49280939.0  839167.0  2801595.40   \n",
              "3 2017-06-02      ALL     ALL  426955711.0  50719801.0  871350.0  3083825.08   \n",
              "4 2017-06-02  Android     ALL  328804991.0  38415016.0  689638.0  1608268.27   \n",
              "\n",
              "      Payer UC Total Outflow (K)     D1  ...  Revenue_lag_172  \\\n",
              "0  168965.0               116232  55.41  ...              NaN   \n",
              "1   80891.0               143366  53.53  ...              NaN   \n",
              "2  255157.0               259592  53.83  ...              NaN   \n",
              "3  250595.0               270912  53.76  ...              NaN   \n",
              "4  169928.0               124751  55.21  ...              NaN   \n",
              "\n",
              "   Revenue_lag_179 Revenue_lag_186  Revenue_lag_193  Revenue_lag_200  \\\n",
              "0              NaN             NaN              NaN              NaN   \n",
              "1              NaN             NaN              NaN              NaN   \n",
              "2              NaN             NaN              NaN              NaN   \n",
              "3              NaN             NaN              NaN              NaN   \n",
              "4              NaN             NaN              NaN              NaN   \n",
              "\n",
              "   Revenue_lag_207  Revenue_lag_214  Revenue_lag_221  Revenue_lag_228  \\\n",
              "0              NaN              NaN              NaN              NaN   \n",
              "1              NaN              NaN              NaN              NaN   \n",
              "2              NaN              NaN              NaN              NaN   \n",
              "3              NaN              NaN              NaN              NaN   \n",
              "4              NaN              NaN              NaN              NaN   \n",
              "\n",
              "   Revenue_lag_235  \n",
              "0              NaN  \n",
              "1              NaN  \n",
              "2              NaN  \n",
              "3              NaN  \n",
              "4              NaN  \n",
              "\n",
              "[5 rows x 29 columns]"
            ],
            "text/html": [
              "\n",
              "  <div id=\"df-5c111621-c396-4a60-aa5f-374d71b32d75\" class=\"colab-df-container\">\n",
              "    <div>\n",
              "<style scoped>\n",
              "    .dataframe tbody tr th:only-of-type {\n",
              "        vertical-align: middle;\n",
              "    }\n",
              "\n",
              "    .dataframe tbody tr th {\n",
              "        vertical-align: top;\n",
              "    }\n",
              "\n",
              "    .dataframe thead th {\n",
              "        text-align: right;\n",
              "    }\n",
              "</style>\n",
              "<table border=\"1\" class=\"dataframe\">\n",
              "  <thead>\n",
              "    <tr style=\"text-align: right;\">\n",
              "      <th></th>\n",
              "      <th>Date</th>\n",
              "      <th>Platform</th>\n",
              "      <th>Country</th>\n",
              "      <th>TRU</th>\n",
              "      <th>DAU</th>\n",
              "      <th>NRU</th>\n",
              "      <th>Revenue</th>\n",
              "      <th>Payer</th>\n",
              "      <th>UC Total Outflow (K)</th>\n",
              "      <th>D1</th>\n",
              "      <th>...</th>\n",
              "      <th>Revenue_lag_172</th>\n",
              "      <th>Revenue_lag_179</th>\n",
              "      <th>Revenue_lag_186</th>\n",
              "      <th>Revenue_lag_193</th>\n",
              "      <th>Revenue_lag_200</th>\n",
              "      <th>Revenue_lag_207</th>\n",
              "      <th>Revenue_lag_214</th>\n",
              "      <th>Revenue_lag_221</th>\n",
              "      <th>Revenue_lag_228</th>\n",
              "      <th>Revenue_lag_235</th>\n",
              "    </tr>\n",
              "  </thead>\n",
              "  <tbody>\n",
              "    <tr>\n",
              "      <th>0</th>\n",
              "      <td>2017-06-01</td>\n",
              "      <td>Android</td>\n",
              "      <td>ALL</td>\n",
              "      <td>328115353.0</td>\n",
              "      <td>37040731.0</td>\n",
              "      <td>659119.0</td>\n",
              "      <td>1402681.83</td>\n",
              "      <td>168965.0</td>\n",
              "      <td>116232</td>\n",
              "      <td>55.41</td>\n",
              "      <td>...</td>\n",
              "      <td>NaN</td>\n",
              "      <td>NaN</td>\n",
              "      <td>NaN</td>\n",
              "      <td>NaN</td>\n",
              "      <td>NaN</td>\n",
              "      <td>NaN</td>\n",
              "      <td>NaN</td>\n",
              "      <td>NaN</td>\n",
              "      <td>NaN</td>\n",
              "      <td>NaN</td>\n",
              "    </tr>\n",
              "    <tr>\n",
              "      <th>1</th>\n",
              "      <td>2017-06-01</td>\n",
              "      <td>IOS</td>\n",
              "      <td>ALL</td>\n",
              "      <td>100552561.0</td>\n",
              "      <td>10251221.0</td>\n",
              "      <td>134293.0</td>\n",
              "      <td>1341730.18</td>\n",
              "      <td>80891.0</td>\n",
              "      <td>143366</td>\n",
              "      <td>53.53</td>\n",
              "      <td>...</td>\n",
              "      <td>NaN</td>\n",
              "      <td>NaN</td>\n",
              "      <td>NaN</td>\n",
              "      <td>NaN</td>\n",
              "      <td>NaN</td>\n",
              "      <td>NaN</td>\n",
              "      <td>NaN</td>\n",
              "      <td>NaN</td>\n",
              "      <td>NaN</td>\n",
              "      <td>NaN</td>\n",
              "    </tr>\n",
              "    <tr>\n",
              "      <th>2</th>\n",
              "      <td>2017-06-01</td>\n",
              "      <td>ALL</td>\n",
              "      <td>ALL</td>\n",
              "      <td>426084361.0</td>\n",
              "      <td>49280939.0</td>\n",
              "      <td>839167.0</td>\n",
              "      <td>2801595.40</td>\n",
              "      <td>255157.0</td>\n",
              "      <td>259592</td>\n",
              "      <td>53.83</td>\n",
              "      <td>...</td>\n",
              "      <td>NaN</td>\n",
              "      <td>NaN</td>\n",
              "      <td>NaN</td>\n",
              "      <td>NaN</td>\n",
              "      <td>NaN</td>\n",
              "      <td>NaN</td>\n",
              "      <td>NaN</td>\n",
              "      <td>NaN</td>\n",
              "      <td>NaN</td>\n",
              "      <td>NaN</td>\n",
              "    </tr>\n",
              "    <tr>\n",
              "      <th>3</th>\n",
              "      <td>2017-06-02</td>\n",
              "      <td>ALL</td>\n",
              "      <td>ALL</td>\n",
              "      <td>426955711.0</td>\n",
              "      <td>50719801.0</td>\n",
              "      <td>871350.0</td>\n",
              "      <td>3083825.08</td>\n",
              "      <td>250595.0</td>\n",
              "      <td>270912</td>\n",
              "      <td>53.76</td>\n",
              "      <td>...</td>\n",
              "      <td>NaN</td>\n",
              "      <td>NaN</td>\n",
              "      <td>NaN</td>\n",
              "      <td>NaN</td>\n",
              "      <td>NaN</td>\n",
              "      <td>NaN</td>\n",
              "      <td>NaN</td>\n",
              "      <td>NaN</td>\n",
              "      <td>NaN</td>\n",
              "      <td>NaN</td>\n",
              "    </tr>\n",
              "    <tr>\n",
              "      <th>4</th>\n",
              "      <td>2017-06-02</td>\n",
              "      <td>Android</td>\n",
              "      <td>ALL</td>\n",
              "      <td>328804991.0</td>\n",
              "      <td>38415016.0</td>\n",
              "      <td>689638.0</td>\n",
              "      <td>1608268.27</td>\n",
              "      <td>169928.0</td>\n",
              "      <td>124751</td>\n",
              "      <td>55.21</td>\n",
              "      <td>...</td>\n",
              "      <td>NaN</td>\n",
              "      <td>NaN</td>\n",
              "      <td>NaN</td>\n",
              "      <td>NaN</td>\n",
              "      <td>NaN</td>\n",
              "      <td>NaN</td>\n",
              "      <td>NaN</td>\n",
              "      <td>NaN</td>\n",
              "      <td>NaN</td>\n",
              "      <td>NaN</td>\n",
              "    </tr>\n",
              "  </tbody>\n",
              "</table>\n",
              "<p>5 rows × 29 columns</p>\n",
              "</div>\n",
              "    <div class=\"colab-df-buttons\">\n",
              "\n",
              "  <div class=\"colab-df-container\">\n",
              "    <button class=\"colab-df-convert\" onclick=\"convertToInteractive('df-5c111621-c396-4a60-aa5f-374d71b32d75')\"\n",
              "            title=\"Convert this dataframe to an interactive table.\"\n",
              "            style=\"display:none;\">\n",
              "\n",
              "  <svg xmlns=\"http://www.w3.org/2000/svg\" height=\"24px\" viewBox=\"0 -960 960 960\">\n",
              "    <path d=\"M120-120v-720h720v720H120Zm60-500h600v-160H180v160Zm220 220h160v-160H400v160Zm0 220h160v-160H400v160ZM180-400h160v-160H180v160Zm440 0h160v-160H620v160ZM180-180h160v-160H180v160Zm440 0h160v-160H620v160Z\"/>\n",
              "  </svg>\n",
              "    </button>\n",
              "\n",
              "  <style>\n",
              "    .colab-df-container {\n",
              "      display:flex;\n",
              "      gap: 12px;\n",
              "    }\n",
              "\n",
              "    .colab-df-convert {\n",
              "      background-color: #E8F0FE;\n",
              "      border: none;\n",
              "      border-radius: 50%;\n",
              "      cursor: pointer;\n",
              "      display: none;\n",
              "      fill: #1967D2;\n",
              "      height: 32px;\n",
              "      padding: 0 0 0 0;\n",
              "      width: 32px;\n",
              "    }\n",
              "\n",
              "    .colab-df-convert:hover {\n",
              "      background-color: #E2EBFA;\n",
              "      box-shadow: 0px 1px 2px rgba(60, 64, 67, 0.3), 0px 1px 3px 1px rgba(60, 64, 67, 0.15);\n",
              "      fill: #174EA6;\n",
              "    }\n",
              "\n",
              "    .colab-df-buttons div {\n",
              "      margin-bottom: 4px;\n",
              "    }\n",
              "\n",
              "    [theme=dark] .colab-df-convert {\n",
              "      background-color: #3B4455;\n",
              "      fill: #D2E3FC;\n",
              "    }\n",
              "\n",
              "    [theme=dark] .colab-df-convert:hover {\n",
              "      background-color: #434B5C;\n",
              "      box-shadow: 0px 1px 3px 1px rgba(0, 0, 0, 0.15);\n",
              "      filter: drop-shadow(0px 1px 2px rgba(0, 0, 0, 0.3));\n",
              "      fill: #FFFFFF;\n",
              "    }\n",
              "  </style>\n",
              "\n",
              "    <script>\n",
              "      const buttonEl =\n",
              "        document.querySelector('#df-5c111621-c396-4a60-aa5f-374d71b32d75 button.colab-df-convert');\n",
              "      buttonEl.style.display =\n",
              "        google.colab.kernel.accessAllowed ? 'block' : 'none';\n",
              "\n",
              "      async function convertToInteractive(key) {\n",
              "        const element = document.querySelector('#df-5c111621-c396-4a60-aa5f-374d71b32d75');\n",
              "        const dataTable =\n",
              "          await google.colab.kernel.invokeFunction('convertToInteractive',\n",
              "                                                    [key], {});\n",
              "        if (!dataTable) return;\n",
              "\n",
              "        const docLinkHtml = 'Like what you see? Visit the ' +\n",
              "          '<a target=\"_blank\" href=https://colab.research.google.com/notebooks/data_table.ipynb>data table notebook</a>'\n",
              "          + ' to learn more about interactive tables.';\n",
              "        element.innerHTML = '';\n",
              "        dataTable['output_type'] = 'display_data';\n",
              "        await google.colab.output.renderOutput(dataTable, element);\n",
              "        const docLink = document.createElement('div');\n",
              "        docLink.innerHTML = docLinkHtml;\n",
              "        element.appendChild(docLink);\n",
              "      }\n",
              "    </script>\n",
              "  </div>\n",
              "\n",
              "\n",
              "<div id=\"df-f5a9ba20-9715-4bab-aa7d-2fdc1f935a48\">\n",
              "  <button class=\"colab-df-quickchart\" onclick=\"quickchart('df-f5a9ba20-9715-4bab-aa7d-2fdc1f935a48')\"\n",
              "            title=\"Suggest charts\"\n",
              "            style=\"display:none;\">\n",
              "\n",
              "<svg xmlns=\"http://www.w3.org/2000/svg\" height=\"24px\"viewBox=\"0 0 24 24\"\n",
              "     width=\"24px\">\n",
              "    <g>\n",
              "        <path d=\"M19 3H5c-1.1 0-2 .9-2 2v14c0 1.1.9 2 2 2h14c1.1 0 2-.9 2-2V5c0-1.1-.9-2-2-2zM9 17H7v-7h2v7zm4 0h-2V7h2v10zm4 0h-2v-4h2v4z\"/>\n",
              "    </g>\n",
              "</svg>\n",
              "  </button>\n",
              "\n",
              "<style>\n",
              "  .colab-df-quickchart {\n",
              "      --bg-color: #E8F0FE;\n",
              "      --fill-color: #1967D2;\n",
              "      --hover-bg-color: #E2EBFA;\n",
              "      --hover-fill-color: #174EA6;\n",
              "      --disabled-fill-color: #AAA;\n",
              "      --disabled-bg-color: #DDD;\n",
              "  }\n",
              "\n",
              "  [theme=dark] .colab-df-quickchart {\n",
              "      --bg-color: #3B4455;\n",
              "      --fill-color: #D2E3FC;\n",
              "      --hover-bg-color: #434B5C;\n",
              "      --hover-fill-color: #FFFFFF;\n",
              "      --disabled-bg-color: #3B4455;\n",
              "      --disabled-fill-color: #666;\n",
              "  }\n",
              "\n",
              "  .colab-df-quickchart {\n",
              "    background-color: var(--bg-color);\n",
              "    border: none;\n",
              "    border-radius: 50%;\n",
              "    cursor: pointer;\n",
              "    display: none;\n",
              "    fill: var(--fill-color);\n",
              "    height: 32px;\n",
              "    padding: 0;\n",
              "    width: 32px;\n",
              "  }\n",
              "\n",
              "  .colab-df-quickchart:hover {\n",
              "    background-color: var(--hover-bg-color);\n",
              "    box-shadow: 0 1px 2px rgba(60, 64, 67, 0.3), 0 1px 3px 1px rgba(60, 64, 67, 0.15);\n",
              "    fill: var(--button-hover-fill-color);\n",
              "  }\n",
              "\n",
              "  .colab-df-quickchart-complete:disabled,\n",
              "  .colab-df-quickchart-complete:disabled:hover {\n",
              "    background-color: var(--disabled-bg-color);\n",
              "    fill: var(--disabled-fill-color);\n",
              "    box-shadow: none;\n",
              "  }\n",
              "\n",
              "  .colab-df-spinner {\n",
              "    border: 2px solid var(--fill-color);\n",
              "    border-color: transparent;\n",
              "    border-bottom-color: var(--fill-color);\n",
              "    animation:\n",
              "      spin 1s steps(1) infinite;\n",
              "  }\n",
              "\n",
              "  @keyframes spin {\n",
              "    0% {\n",
              "      border-color: transparent;\n",
              "      border-bottom-color: var(--fill-color);\n",
              "      border-left-color: var(--fill-color);\n",
              "    }\n",
              "    20% {\n",
              "      border-color: transparent;\n",
              "      border-left-color: var(--fill-color);\n",
              "      border-top-color: var(--fill-color);\n",
              "    }\n",
              "    30% {\n",
              "      border-color: transparent;\n",
              "      border-left-color: var(--fill-color);\n",
              "      border-top-color: var(--fill-color);\n",
              "      border-right-color: var(--fill-color);\n",
              "    }\n",
              "    40% {\n",
              "      border-color: transparent;\n",
              "      border-right-color: var(--fill-color);\n",
              "      border-top-color: var(--fill-color);\n",
              "    }\n",
              "    60% {\n",
              "      border-color: transparent;\n",
              "      border-right-color: var(--fill-color);\n",
              "    }\n",
              "    80% {\n",
              "      border-color: transparent;\n",
              "      border-right-color: var(--fill-color);\n",
              "      border-bottom-color: var(--fill-color);\n",
              "    }\n",
              "    90% {\n",
              "      border-color: transparent;\n",
              "      border-bottom-color: var(--fill-color);\n",
              "    }\n",
              "  }\n",
              "</style>\n",
              "\n",
              "  <script>\n",
              "    async function quickchart(key) {\n",
              "      const quickchartButtonEl =\n",
              "        document.querySelector('#' + key + ' button');\n",
              "      quickchartButtonEl.disabled = true;  // To prevent multiple clicks.\n",
              "      quickchartButtonEl.classList.add('colab-df-spinner');\n",
              "      try {\n",
              "        const charts = await google.colab.kernel.invokeFunction(\n",
              "            'suggestCharts', [key], {});\n",
              "      } catch (error) {\n",
              "        console.error('Error during call to suggestCharts:', error);\n",
              "      }\n",
              "      quickchartButtonEl.classList.remove('colab-df-spinner');\n",
              "      quickchartButtonEl.classList.add('colab-df-quickchart-complete');\n",
              "    }\n",
              "    (() => {\n",
              "      let quickchartButtonEl =\n",
              "        document.querySelector('#df-f5a9ba20-9715-4bab-aa7d-2fdc1f935a48 button');\n",
              "      quickchartButtonEl.style.display =\n",
              "        google.colab.kernel.accessAllowed ? 'block' : 'none';\n",
              "    })();\n",
              "  </script>\n",
              "</div>\n",
              "\n",
              "    </div>\n",
              "  </div>\n"
            ],
            "application/vnd.google.colaboratory.intrinsic+json": {
              "type": "dataframe",
              "variable_name": "data1_copy"
            }
          },
          "metadata": {},
          "execution_count": 21
        }
      ]
    },
    {
      "cell_type": "code",
      "source": [
        "data1_copy.columns"
      ],
      "metadata": {
        "colab": {
          "base_uri": "https://localhost:8080/"
        },
        "id": "QGvc7uZCodi4",
        "outputId": "f1186e36-bbb7-4f23-f29b-df431bde12b9"
      },
      "execution_count": null,
      "outputs": [
        {
          "output_type": "execute_result",
          "data": {
            "text/plain": [
              "Index(['Date', 'Platform', 'Country', 'TRU', 'DAU', 'NRU', 'Revenue', 'Payer',\n",
              "       'UC Total Outflow (K)', 'D1', 'D7', 'AOT(min)', 'Country_code',\n",
              "       'Weekday', 'month', 'year', 'Revenue_lag_151', 'Revenue_lag_158',\n",
              "       'Revenue_lag_165', 'Revenue_lag_172', 'Revenue_lag_179',\n",
              "       'Revenue_lag_186', 'Revenue_lag_193', 'Revenue_lag_200',\n",
              "       'Revenue_lag_207', 'Revenue_lag_214', 'Revenue_lag_221',\n",
              "       'Revenue_lag_228', 'Revenue_lag_235'],\n",
              "      dtype='object')"
            ]
          },
          "metadata": {},
          "execution_count": 25
        }
      ]
    },
    {
      "cell_type": "code",
      "source": [
        "data1_copy.drop(columns='Country',inplace=True)"
      ],
      "metadata": {
        "id": "PwMYce2aop28"
      },
      "execution_count": null,
      "outputs": []
    },
    {
      "cell_type": "code",
      "source": [
        "data1_copy = create_ewm_features(data1_copy, gpby_cols=['Country_code','Platform'],\n",
        "                               target_col='Revenue',\n",
        "                               alpha=[0.95, 0.9, 0.8, 0.7, 0.6, 0.5],\n",
        "                               shift=[151,158,165,172,179,186,193,200,207,214,221,228,235])"
      ],
      "metadata": {
        "id": "SGXKkEbEb1I2"
      },
      "execution_count": null,
      "outputs": []
    },
    {
      "cell_type": "code",
      "source": [
        "data1_copy.shape"
      ],
      "metadata": {
        "colab": {
          "base_uri": "https://localhost:8080/"
        },
        "id": "mcEXzufucX2-",
        "outputId": "6d673139-e75c-458c-a76f-59d58c462f8a"
      },
      "execution_count": null,
      "outputs": [
        {
          "output_type": "execute_result",
          "data": {
            "text/plain": [
              "(412735, 106)"
            ]
          },
          "metadata": {},
          "execution_count": 96
        }
      ]
    },
    {
      "cell_type": "code",
      "source": [
        "def one_hot_encoder(df, ohe_cols=['Country','Platform','Weekday','month']):\n",
        "    print('Creating OHE features..\\nOld df shape:{}'.format(df.shape))\n",
        "    df = pd.get_dummies(df, columns=ohe_cols)\n",
        "    print('New df shape:{}'.format(df.shape))\n",
        "    return df"
      ],
      "metadata": {
        "id": "lid_kciPcZdK"
      },
      "execution_count": null,
      "outputs": []
    },
    {
      "cell_type": "code",
      "source": [
        "data1_copy = one_hot_encoder(data1_copy, ohe_cols=['Country_code','Platform','Weekday','month'])"
      ],
      "metadata": {
        "colab": {
          "base_uri": "https://localhost:8080/"
        },
        "id": "bzvL-DJHdWGG",
        "outputId": "94742bb0-2a26-4215-a0c1-c913212838f2"
      },
      "execution_count": null,
      "outputs": [
        {
          "output_type": "stream",
          "name": "stdout",
          "text": [
            "Creating OHE features..\n",
            "Old df shape:(412735, 106)\n",
            "New df shape:(412735, 362)\n"
          ]
        }
      ]
    },
    {
      "cell_type": "code",
      "source": [
        "X_train = data1_copy[data1_copy['year']<2019]\n",
        "X_train.head()"
      ],
      "metadata": {
        "colab": {
          "base_uri": "https://localhost:8080/",
          "height": 394
        },
        "id": "38jY0axZeklQ",
        "outputId": "6e301235-dff1-47ac-e613-5771e911e884"
      },
      "execution_count": null,
      "outputs": [
        {
          "output_type": "execute_result",
          "data": {
            "text/plain": [
              "        Date          TRU         DAU       NRU    Revenue     Payer  \\\n",
              "0 2017-06-01  328115353.0  37040731.0  659119.0  14.153897  168965.0   \n",
              "1 2017-06-01  100552561.0  10251221.0  134293.0  14.109471   80891.0   \n",
              "2 2017-06-01  426084361.0  49280939.0  839167.0  14.845700  255157.0   \n",
              "3 2017-06-02  426955711.0  50719801.0  871350.0  14.941682  250595.0   \n",
              "4 2017-06-02  328804991.0  38415016.0  689638.0  14.290669  169928.0   \n",
              "\n",
              "   UC Total Outflow (K)     D1     D7  AOT(min)  ...  month_3  month_4  \\\n",
              "0              116232.0  55.41  27.77     127.5  ...        0        0   \n",
              "1              143366.0  53.53  27.74     115.4  ...        0        0   \n",
              "2              259592.0  53.83  26.64     124.5  ...        0        0   \n",
              "3              270912.0  53.76  27.01     125.0  ...        0        0   \n",
              "4              124751.0  55.21  28.01     127.6  ...        0        0   \n",
              "\n",
              "   month_5  month_6  month_7  month_8  month_9  month_10  month_11  month_12  \n",
              "0        0        1        0        0        0         0         0         0  \n",
              "1        0        1        0        0        0         0         0         0  \n",
              "2        0        1        0        0        0         0         0         0  \n",
              "3        0        1        0        0        0         0         0         0  \n",
              "4        0        1        0        0        0         0         0         0  \n",
              "\n",
              "[5 rows x 362 columns]"
            ],
            "text/html": [
              "\n",
              "  <div id=\"df-6423eb29-b550-4d91-ba69-772036e4c1a2\" class=\"colab-df-container\">\n",
              "    <div>\n",
              "<style scoped>\n",
              "    .dataframe tbody tr th:only-of-type {\n",
              "        vertical-align: middle;\n",
              "    }\n",
              "\n",
              "    .dataframe tbody tr th {\n",
              "        vertical-align: top;\n",
              "    }\n",
              "\n",
              "    .dataframe thead th {\n",
              "        text-align: right;\n",
              "    }\n",
              "</style>\n",
              "<table border=\"1\" class=\"dataframe\">\n",
              "  <thead>\n",
              "    <tr style=\"text-align: right;\">\n",
              "      <th></th>\n",
              "      <th>Date</th>\n",
              "      <th>TRU</th>\n",
              "      <th>DAU</th>\n",
              "      <th>NRU</th>\n",
              "      <th>Revenue</th>\n",
              "      <th>Payer</th>\n",
              "      <th>UC Total Outflow (K)</th>\n",
              "      <th>D1</th>\n",
              "      <th>D7</th>\n",
              "      <th>AOT(min)</th>\n",
              "      <th>...</th>\n",
              "      <th>month_3</th>\n",
              "      <th>month_4</th>\n",
              "      <th>month_5</th>\n",
              "      <th>month_6</th>\n",
              "      <th>month_7</th>\n",
              "      <th>month_8</th>\n",
              "      <th>month_9</th>\n",
              "      <th>month_10</th>\n",
              "      <th>month_11</th>\n",
              "      <th>month_12</th>\n",
              "    </tr>\n",
              "  </thead>\n",
              "  <tbody>\n",
              "    <tr>\n",
              "      <th>0</th>\n",
              "      <td>2017-06-01</td>\n",
              "      <td>328115353.0</td>\n",
              "      <td>37040731.0</td>\n",
              "      <td>659119.0</td>\n",
              "      <td>14.153897</td>\n",
              "      <td>168965.0</td>\n",
              "      <td>116232.0</td>\n",
              "      <td>55.41</td>\n",
              "      <td>27.77</td>\n",
              "      <td>127.5</td>\n",
              "      <td>...</td>\n",
              "      <td>0</td>\n",
              "      <td>0</td>\n",
              "      <td>0</td>\n",
              "      <td>1</td>\n",
              "      <td>0</td>\n",
              "      <td>0</td>\n",
              "      <td>0</td>\n",
              "      <td>0</td>\n",
              "      <td>0</td>\n",
              "      <td>0</td>\n",
              "    </tr>\n",
              "    <tr>\n",
              "      <th>1</th>\n",
              "      <td>2017-06-01</td>\n",
              "      <td>100552561.0</td>\n",
              "      <td>10251221.0</td>\n",
              "      <td>134293.0</td>\n",
              "      <td>14.109471</td>\n",
              "      <td>80891.0</td>\n",
              "      <td>143366.0</td>\n",
              "      <td>53.53</td>\n",
              "      <td>27.74</td>\n",
              "      <td>115.4</td>\n",
              "      <td>...</td>\n",
              "      <td>0</td>\n",
              "      <td>0</td>\n",
              "      <td>0</td>\n",
              "      <td>1</td>\n",
              "      <td>0</td>\n",
              "      <td>0</td>\n",
              "      <td>0</td>\n",
              "      <td>0</td>\n",
              "      <td>0</td>\n",
              "      <td>0</td>\n",
              "    </tr>\n",
              "    <tr>\n",
              "      <th>2</th>\n",
              "      <td>2017-06-01</td>\n",
              "      <td>426084361.0</td>\n",
              "      <td>49280939.0</td>\n",
              "      <td>839167.0</td>\n",
              "      <td>14.845700</td>\n",
              "      <td>255157.0</td>\n",
              "      <td>259592.0</td>\n",
              "      <td>53.83</td>\n",
              "      <td>26.64</td>\n",
              "      <td>124.5</td>\n",
              "      <td>...</td>\n",
              "      <td>0</td>\n",
              "      <td>0</td>\n",
              "      <td>0</td>\n",
              "      <td>1</td>\n",
              "      <td>0</td>\n",
              "      <td>0</td>\n",
              "      <td>0</td>\n",
              "      <td>0</td>\n",
              "      <td>0</td>\n",
              "      <td>0</td>\n",
              "    </tr>\n",
              "    <tr>\n",
              "      <th>3</th>\n",
              "      <td>2017-06-02</td>\n",
              "      <td>426955711.0</td>\n",
              "      <td>50719801.0</td>\n",
              "      <td>871350.0</td>\n",
              "      <td>14.941682</td>\n",
              "      <td>250595.0</td>\n",
              "      <td>270912.0</td>\n",
              "      <td>53.76</td>\n",
              "      <td>27.01</td>\n",
              "      <td>125.0</td>\n",
              "      <td>...</td>\n",
              "      <td>0</td>\n",
              "      <td>0</td>\n",
              "      <td>0</td>\n",
              "      <td>1</td>\n",
              "      <td>0</td>\n",
              "      <td>0</td>\n",
              "      <td>0</td>\n",
              "      <td>0</td>\n",
              "      <td>0</td>\n",
              "      <td>0</td>\n",
              "    </tr>\n",
              "    <tr>\n",
              "      <th>4</th>\n",
              "      <td>2017-06-02</td>\n",
              "      <td>328804991.0</td>\n",
              "      <td>38415016.0</td>\n",
              "      <td>689638.0</td>\n",
              "      <td>14.290669</td>\n",
              "      <td>169928.0</td>\n",
              "      <td>124751.0</td>\n",
              "      <td>55.21</td>\n",
              "      <td>28.01</td>\n",
              "      <td>127.6</td>\n",
              "      <td>...</td>\n",
              "      <td>0</td>\n",
              "      <td>0</td>\n",
              "      <td>0</td>\n",
              "      <td>1</td>\n",
              "      <td>0</td>\n",
              "      <td>0</td>\n",
              "      <td>0</td>\n",
              "      <td>0</td>\n",
              "      <td>0</td>\n",
              "      <td>0</td>\n",
              "    </tr>\n",
              "  </tbody>\n",
              "</table>\n",
              "<p>5 rows × 362 columns</p>\n",
              "</div>\n",
              "    <div class=\"colab-df-buttons\">\n",
              "\n",
              "  <div class=\"colab-df-container\">\n",
              "    <button class=\"colab-df-convert\" onclick=\"convertToInteractive('df-6423eb29-b550-4d91-ba69-772036e4c1a2')\"\n",
              "            title=\"Convert this dataframe to an interactive table.\"\n",
              "            style=\"display:none;\">\n",
              "\n",
              "  <svg xmlns=\"http://www.w3.org/2000/svg\" height=\"24px\" viewBox=\"0 -960 960 960\">\n",
              "    <path d=\"M120-120v-720h720v720H120Zm60-500h600v-160H180v160Zm220 220h160v-160H400v160Zm0 220h160v-160H400v160ZM180-400h160v-160H180v160Zm440 0h160v-160H620v160ZM180-180h160v-160H180v160Zm440 0h160v-160H620v160Z\"/>\n",
              "  </svg>\n",
              "    </button>\n",
              "\n",
              "  <style>\n",
              "    .colab-df-container {\n",
              "      display:flex;\n",
              "      gap: 12px;\n",
              "    }\n",
              "\n",
              "    .colab-df-convert {\n",
              "      background-color: #E8F0FE;\n",
              "      border: none;\n",
              "      border-radius: 50%;\n",
              "      cursor: pointer;\n",
              "      display: none;\n",
              "      fill: #1967D2;\n",
              "      height: 32px;\n",
              "      padding: 0 0 0 0;\n",
              "      width: 32px;\n",
              "    }\n",
              "\n",
              "    .colab-df-convert:hover {\n",
              "      background-color: #E2EBFA;\n",
              "      box-shadow: 0px 1px 2px rgba(60, 64, 67, 0.3), 0px 1px 3px 1px rgba(60, 64, 67, 0.15);\n",
              "      fill: #174EA6;\n",
              "    }\n",
              "\n",
              "    .colab-df-buttons div {\n",
              "      margin-bottom: 4px;\n",
              "    }\n",
              "\n",
              "    [theme=dark] .colab-df-convert {\n",
              "      background-color: #3B4455;\n",
              "      fill: #D2E3FC;\n",
              "    }\n",
              "\n",
              "    [theme=dark] .colab-df-convert:hover {\n",
              "      background-color: #434B5C;\n",
              "      box-shadow: 0px 1px 3px 1px rgba(0, 0, 0, 0.15);\n",
              "      filter: drop-shadow(0px 1px 2px rgba(0, 0, 0, 0.3));\n",
              "      fill: #FFFFFF;\n",
              "    }\n",
              "  </style>\n",
              "\n",
              "    <script>\n",
              "      const buttonEl =\n",
              "        document.querySelector('#df-6423eb29-b550-4d91-ba69-772036e4c1a2 button.colab-df-convert');\n",
              "      buttonEl.style.display =\n",
              "        google.colab.kernel.accessAllowed ? 'block' : 'none';\n",
              "\n",
              "      async function convertToInteractive(key) {\n",
              "        const element = document.querySelector('#df-6423eb29-b550-4d91-ba69-772036e4c1a2');\n",
              "        const dataTable =\n",
              "          await google.colab.kernel.invokeFunction('convertToInteractive',\n",
              "                                                    [key], {});\n",
              "        if (!dataTable) return;\n",
              "\n",
              "        const docLinkHtml = 'Like what you see? Visit the ' +\n",
              "          '<a target=\"_blank\" href=https://colab.research.google.com/notebooks/data_table.ipynb>data table notebook</a>'\n",
              "          + ' to learn more about interactive tables.';\n",
              "        element.innerHTML = '';\n",
              "        dataTable['output_type'] = 'display_data';\n",
              "        await google.colab.output.renderOutput(dataTable, element);\n",
              "        const docLink = document.createElement('div');\n",
              "        docLink.innerHTML = docLinkHtml;\n",
              "        element.appendChild(docLink);\n",
              "      }\n",
              "    </script>\n",
              "  </div>\n",
              "\n",
              "\n",
              "<div id=\"df-ef3c13f9-9705-4d0b-9ddd-4ae16c0c6b8b\">\n",
              "  <button class=\"colab-df-quickchart\" onclick=\"quickchart('df-ef3c13f9-9705-4d0b-9ddd-4ae16c0c6b8b')\"\n",
              "            title=\"Suggest charts\"\n",
              "            style=\"display:none;\">\n",
              "\n",
              "<svg xmlns=\"http://www.w3.org/2000/svg\" height=\"24px\"viewBox=\"0 0 24 24\"\n",
              "     width=\"24px\">\n",
              "    <g>\n",
              "        <path d=\"M19 3H5c-1.1 0-2 .9-2 2v14c0 1.1.9 2 2 2h14c1.1 0 2-.9 2-2V5c0-1.1-.9-2-2-2zM9 17H7v-7h2v7zm4 0h-2V7h2v10zm4 0h-2v-4h2v4z\"/>\n",
              "    </g>\n",
              "</svg>\n",
              "  </button>\n",
              "\n",
              "<style>\n",
              "  .colab-df-quickchart {\n",
              "      --bg-color: #E8F0FE;\n",
              "      --fill-color: #1967D2;\n",
              "      --hover-bg-color: #E2EBFA;\n",
              "      --hover-fill-color: #174EA6;\n",
              "      --disabled-fill-color: #AAA;\n",
              "      --disabled-bg-color: #DDD;\n",
              "  }\n",
              "\n",
              "  [theme=dark] .colab-df-quickchart {\n",
              "      --bg-color: #3B4455;\n",
              "      --fill-color: #D2E3FC;\n",
              "      --hover-bg-color: #434B5C;\n",
              "      --hover-fill-color: #FFFFFF;\n",
              "      --disabled-bg-color: #3B4455;\n",
              "      --disabled-fill-color: #666;\n",
              "  }\n",
              "\n",
              "  .colab-df-quickchart {\n",
              "    background-color: var(--bg-color);\n",
              "    border: none;\n",
              "    border-radius: 50%;\n",
              "    cursor: pointer;\n",
              "    display: none;\n",
              "    fill: var(--fill-color);\n",
              "    height: 32px;\n",
              "    padding: 0;\n",
              "    width: 32px;\n",
              "  }\n",
              "\n",
              "  .colab-df-quickchart:hover {\n",
              "    background-color: var(--hover-bg-color);\n",
              "    box-shadow: 0 1px 2px rgba(60, 64, 67, 0.3), 0 1px 3px 1px rgba(60, 64, 67, 0.15);\n",
              "    fill: var(--button-hover-fill-color);\n",
              "  }\n",
              "\n",
              "  .colab-df-quickchart-complete:disabled,\n",
              "  .colab-df-quickchart-complete:disabled:hover {\n",
              "    background-color: var(--disabled-bg-color);\n",
              "    fill: var(--disabled-fill-color);\n",
              "    box-shadow: none;\n",
              "  }\n",
              "\n",
              "  .colab-df-spinner {\n",
              "    border: 2px solid var(--fill-color);\n",
              "    border-color: transparent;\n",
              "    border-bottom-color: var(--fill-color);\n",
              "    animation:\n",
              "      spin 1s steps(1) infinite;\n",
              "  }\n",
              "\n",
              "  @keyframes spin {\n",
              "    0% {\n",
              "      border-color: transparent;\n",
              "      border-bottom-color: var(--fill-color);\n",
              "      border-left-color: var(--fill-color);\n",
              "    }\n",
              "    20% {\n",
              "      border-color: transparent;\n",
              "      border-left-color: var(--fill-color);\n",
              "      border-top-color: var(--fill-color);\n",
              "    }\n",
              "    30% {\n",
              "      border-color: transparent;\n",
              "      border-left-color: var(--fill-color);\n",
              "      border-top-color: var(--fill-color);\n",
              "      border-right-color: var(--fill-color);\n",
              "    }\n",
              "    40% {\n",
              "      border-color: transparent;\n",
              "      border-right-color: var(--fill-color);\n",
              "      border-top-color: var(--fill-color);\n",
              "    }\n",
              "    60% {\n",
              "      border-color: transparent;\n",
              "      border-right-color: var(--fill-color);\n",
              "    }\n",
              "    80% {\n",
              "      border-color: transparent;\n",
              "      border-right-color: var(--fill-color);\n",
              "      border-bottom-color: var(--fill-color);\n",
              "    }\n",
              "    90% {\n",
              "      border-color: transparent;\n",
              "      border-bottom-color: var(--fill-color);\n",
              "    }\n",
              "  }\n",
              "</style>\n",
              "\n",
              "  <script>\n",
              "    async function quickchart(key) {\n",
              "      const quickchartButtonEl =\n",
              "        document.querySelector('#' + key + ' button');\n",
              "      quickchartButtonEl.disabled = true;  // To prevent multiple clicks.\n",
              "      quickchartButtonEl.classList.add('colab-df-spinner');\n",
              "      try {\n",
              "        const charts = await google.colab.kernel.invokeFunction(\n",
              "            'suggestCharts', [key], {});\n",
              "      } catch (error) {\n",
              "        console.error('Error during call to suggestCharts:', error);\n",
              "      }\n",
              "      quickchartButtonEl.classList.remove('colab-df-spinner');\n",
              "      quickchartButtonEl.classList.add('colab-df-quickchart-complete');\n",
              "    }\n",
              "    (() => {\n",
              "      let quickchartButtonEl =\n",
              "        document.querySelector('#df-ef3c13f9-9705-4d0b-9ddd-4ae16c0c6b8b button');\n",
              "      quickchartButtonEl.style.display =\n",
              "        google.colab.kernel.accessAllowed ? 'block' : 'none';\n",
              "    })();\n",
              "  </script>\n",
              "</div>\n",
              "\n",
              "    </div>\n",
              "  </div>\n"
            ],
            "application/vnd.google.colaboratory.intrinsic+json": {
              "type": "dataframe",
              "variable_name": "X_train"
            }
          },
          "metadata": {},
          "execution_count": 98
        }
      ]
    },
    {
      "cell_type": "code",
      "source": [
        "Y_train = X_train['Revenue'].values.reshape((-1))\n",
        "len(Y_train)"
      ],
      "metadata": {
        "colab": {
          "base_uri": "https://localhost:8080/"
        },
        "id": "WleNvWrJfJod",
        "outputId": "747572c0-e98d-47f2-8557-42ec01a53f1d"
      },
      "execution_count": null,
      "outputs": [
        {
          "output_type": "execute_result",
          "data": {
            "text/plain": [
              "313453"
            ]
          },
          "metadata": {},
          "execution_count": 99
        }
      ]
    },
    {
      "cell_type": "code",
      "source": [
        "X_test = data1_copy[data1_copy['year'] == 2019]\n",
        "Y_test = X_test['Revenue'].values.reshape((-1))"
      ],
      "metadata": {
        "id": "enULkSG5fXIh"
      },
      "execution_count": null,
      "outputs": []
    },
    {
      "cell_type": "code",
      "source": [
        "X_test.shape, len(Y_test)"
      ],
      "metadata": {
        "colab": {
          "base_uri": "https://localhost:8080/"
        },
        "id": "2_E7zJdffkHZ",
        "outputId": "8e345749-c83c-4f48-a5d7-561b22e7b4b9"
      },
      "execution_count": null,
      "outputs": [
        {
          "output_type": "execute_result",
          "data": {
            "text/plain": [
              "((99282, 362), 99282)"
            ]
          },
          "metadata": {},
          "execution_count": 101
        }
      ]
    },
    {
      "cell_type": "code",
      "source": [
        "avoid_cols = ['Date', 'Revenue', 'year']\n",
        "cols = [col for col in X_train.columns if col not in avoid_cols]\n",
        "print('No of training features: {} \\nAnd they are:{}'.format(len(cols), cols))"
      ],
      "metadata": {
        "colab": {
          "base_uri": "https://localhost:8080/"
        },
        "id": "mtZbKSW9fmlQ",
        "outputId": "e0a863bd-21b5-457b-b8c3-5f7490cd6895"
      },
      "execution_count": null,
      "outputs": [
        {
          "output_type": "stream",
          "name": "stdout",
          "text": [
            "No of training features: 359 \n",
            "And they are:['TRU', 'DAU', 'NRU', 'Payer', 'UC Total Outflow (K)', 'D1', 'D7', 'AOT(min)', 'Revenue_lag_151', 'Revenue_lag_158', 'Revenue_lag_165', 'Revenue_lag_172', 'Revenue_lag_179', 'Revenue_lag_186', 'Revenue_lag_193', 'Revenue_lag_200', 'Revenue_lag_207', 'Revenue_lag_214', 'Revenue_lag_221', 'Revenue_lag_228', 'Revenue_lag_235', 'Revenue_lag_151_ewm_0.95', 'Revenue_lag_158_ewm_0.95', 'Revenue_lag_165_ewm_0.95', 'Revenue_lag_172_ewm_0.95', 'Revenue_lag_179_ewm_0.95', 'Revenue_lag_186_ewm_0.95', 'Revenue_lag_193_ewm_0.95', 'Revenue_lag_200_ewm_0.95', 'Revenue_lag_207_ewm_0.95', 'Revenue_lag_214_ewm_0.95', 'Revenue_lag_221_ewm_0.95', 'Revenue_lag_228_ewm_0.95', 'Revenue_lag_235_ewm_0.95', 'Revenue_lag_151_ewm_0.9', 'Revenue_lag_158_ewm_0.9', 'Revenue_lag_165_ewm_0.9', 'Revenue_lag_172_ewm_0.9', 'Revenue_lag_179_ewm_0.9', 'Revenue_lag_186_ewm_0.9', 'Revenue_lag_193_ewm_0.9', 'Revenue_lag_200_ewm_0.9', 'Revenue_lag_207_ewm_0.9', 'Revenue_lag_214_ewm_0.9', 'Revenue_lag_221_ewm_0.9', 'Revenue_lag_228_ewm_0.9', 'Revenue_lag_235_ewm_0.9', 'Revenue_lag_151_ewm_0.8', 'Revenue_lag_158_ewm_0.8', 'Revenue_lag_165_ewm_0.8', 'Revenue_lag_172_ewm_0.8', 'Revenue_lag_179_ewm_0.8', 'Revenue_lag_186_ewm_0.8', 'Revenue_lag_193_ewm_0.8', 'Revenue_lag_200_ewm_0.8', 'Revenue_lag_207_ewm_0.8', 'Revenue_lag_214_ewm_0.8', 'Revenue_lag_221_ewm_0.8', 'Revenue_lag_228_ewm_0.8', 'Revenue_lag_235_ewm_0.8', 'Revenue_lag_151_ewm_0.7', 'Revenue_lag_158_ewm_0.7', 'Revenue_lag_165_ewm_0.7', 'Revenue_lag_172_ewm_0.7', 'Revenue_lag_179_ewm_0.7', 'Revenue_lag_186_ewm_0.7', 'Revenue_lag_193_ewm_0.7', 'Revenue_lag_200_ewm_0.7', 'Revenue_lag_207_ewm_0.7', 'Revenue_lag_214_ewm_0.7', 'Revenue_lag_221_ewm_0.7', 'Revenue_lag_228_ewm_0.7', 'Revenue_lag_235_ewm_0.7', 'Revenue_lag_151_ewm_0.6', 'Revenue_lag_158_ewm_0.6', 'Revenue_lag_165_ewm_0.6', 'Revenue_lag_172_ewm_0.6', 'Revenue_lag_179_ewm_0.6', 'Revenue_lag_186_ewm_0.6', 'Revenue_lag_193_ewm_0.6', 'Revenue_lag_200_ewm_0.6', 'Revenue_lag_207_ewm_0.6', 'Revenue_lag_214_ewm_0.6', 'Revenue_lag_221_ewm_0.6', 'Revenue_lag_228_ewm_0.6', 'Revenue_lag_235_ewm_0.6', 'Revenue_lag_151_ewm_0.5', 'Revenue_lag_158_ewm_0.5', 'Revenue_lag_165_ewm_0.5', 'Revenue_lag_172_ewm_0.5', 'Revenue_lag_179_ewm_0.5', 'Revenue_lag_186_ewm_0.5', 'Revenue_lag_193_ewm_0.5', 'Revenue_lag_200_ewm_0.5', 'Revenue_lag_207_ewm_0.5', 'Revenue_lag_214_ewm_0.5', 'Revenue_lag_221_ewm_0.5', 'Revenue_lag_228_ewm_0.5', 'Revenue_lag_235_ewm_0.5', 'Country_code_ABW', 'Country_code_AFG', 'Country_code_AGO', 'Country_code_AIA', 'Country_code_ALB', 'Country_code_ALL', 'Country_code_AND', 'Country_code_ARE', 'Country_code_ARG', 'Country_code_ARM', 'Country_code_ASM', 'Country_code_ATG', 'Country_code_AUS', 'Country_code_AUT', 'Country_code_AZE', 'Country_code_BDG', 'Country_code_BDI', 'Country_code_BEL', 'Country_code_BEN', 'Country_code_BES', 'Country_code_BFA', 'Country_code_BGR', 'Country_code_BHR', 'Country_code_BHS', 'Country_code_BIH', 'Country_code_BLR', 'Country_code_BLZ', 'Country_code_BMU', 'Country_code_BOL', 'Country_code_BRA', 'Country_code_BRB', 'Country_code_BRN', 'Country_code_BTN', 'Country_code_BWA', 'Country_code_CAF', 'Country_code_CAN', 'Country_code_CHE', 'Country_code_CHL', 'Country_code_CHN', 'Country_code_CIV', 'Country_code_CMR', 'Country_code_COD', 'Country_code_COG', 'Country_code_COK', 'Country_code_COL', 'Country_code_COM', 'Country_code_CPV', 'Country_code_CRI', 'Country_code_CUB', 'Country_code_CUW', 'Country_code_CYM', 'Country_code_CYP', 'Country_code_CZE', 'Country_code_DEU', 'Country_code_DJI', 'Country_code_DMA', 'Country_code_DNK', 'Country_code_DOM', 'Country_code_DZA', 'Country_code_ECU', 'Country_code_EGY', 'Country_code_ESP', 'Country_code_EST', 'Country_code_ETH', 'Country_code_EU', 'Country_code_FIN', 'Country_code_FJI', 'Country_code_FLK', 'Country_code_FRA', 'Country_code_FRO', 'Country_code_FSM', 'Country_code_GAB', 'Country_code_GBR', 'Country_code_GEO', 'Country_code_GGY', 'Country_code_GHA', 'Country_code_GIB', 'Country_code_GIN', 'Country_code_GLP', 'Country_code_GMB', 'Country_code_GNB', 'Country_code_GNQ', 'Country_code_GRC', 'Country_code_GRD', 'Country_code_GRL', 'Country_code_GTM', 'Country_code_GUF', 'Country_code_GUM', 'Country_code_GUY', 'Country_code_HKG', 'Country_code_HND', 'Country_code_HRV', 'Country_code_HTI', 'Country_code_HUN', 'Country_code_IDN', 'Country_code_IMN', 'Country_code_IND', 'Country_code_IOT', 'Country_code_IRL', 'Country_code_IRN', 'Country_code_IRQ', 'Country_code_ISL', 'Country_code_ISR', 'Country_code_ITA', 'Country_code_JAM', 'Country_code_JEY', 'Country_code_JOR', 'Country_code_JPN', 'Country_code_KAZ', 'Country_code_KEN', 'Country_code_KGZ', 'Country_code_KHM', 'Country_code_KIR', 'Country_code_KNA', 'Country_code_KOR', 'Country_code_KWT', 'Country_code_LAO', 'Country_code_LBN', 'Country_code_LBR', 'Country_code_LBY', 'Country_code_LCA', 'Country_code_LIE', 'Country_code_LKA', 'Country_code_LSO', 'Country_code_LTU', 'Country_code_LUX', 'Country_code_LVA', 'Country_code_MAC', 'Country_code_MAF', 'Country_code_MAR', 'Country_code_MCO', 'Country_code_MDA', 'Country_code_MDG', 'Country_code_MDV', 'Country_code_MEX', 'Country_code_MHL', 'Country_code_MKD', 'Country_code_MLI', 'Country_code_MLT', 'Country_code_MMR', 'Country_code_MNE', 'Country_code_MNG', 'Country_code_MNP', 'Country_code_MOZ', 'Country_code_MRT', 'Country_code_MTQ', 'Country_code_MUS', 'Country_code_MWI', 'Country_code_MYS', 'Country_code_MYT', 'Country_code_NAM', 'Country_code_NCL', 'Country_code_NER', 'Country_code_NGA', 'Country_code_NIC', 'Country_code_NIU', 'Country_code_NLD', 'Country_code_NOR', 'Country_code_NPL', 'Country_code_NRU', 'Country_code_NZL', 'Country_code_OMN', 'Country_code_PAK', 'Country_code_PAN', 'Country_code_PER', 'Country_code_PHL', 'Country_code_PLW', 'Country_code_PNG', 'Country_code_POL', 'Country_code_PRI', 'Country_code_PRK', 'Country_code_PRT', 'Country_code_PRY', 'Country_code_PSE', 'Country_code_PYF', 'Country_code_QAT', 'Country_code_REU', 'Country_code_ROU', 'Country_code_RUS', 'Country_code_RWA', 'Country_code_SAU', 'Country_code_SDN', 'Country_code_SEN', 'Country_code_SGP', 'Country_code_SLB', 'Country_code_SLE', 'Country_code_SLV', 'Country_code_SMR', 'Country_code_SOM', 'Country_code_SPM', 'Country_code_SRB', 'Country_code_SSD', 'Country_code_STP', 'Country_code_SUR', 'Country_code_SVK', 'Country_code_SVN', 'Country_code_SWE', 'Country_code_SWZ', 'Country_code_SXM', 'Country_code_SYC', 'Country_code_SYR', 'Country_code_TCA', 'Country_code_TCD', 'Country_code_TGO', 'Country_code_THA', 'Country_code_TJK', 'Country_code_TKM', 'Country_code_TLS', 'Country_code_TON', 'Country_code_TTO', 'Country_code_TUN', 'Country_code_TUR', 'Country_code_TUV', 'Country_code_TWN', 'Country_code_TZA', 'Country_code_UGA', 'Country_code_UKR', 'Country_code_URY', 'Country_code_USA', 'Country_code_UZB', 'Country_code_VAT', 'Country_code_VCT', 'Country_code_VEN', 'Country_code_VGB', 'Country_code_VIR', 'Country_code_VNM', 'Country_code_VUT', 'Country_code_WLF', 'Country_code_WSM', 'Country_code_YEM', 'Country_code_ZAF', 'Country_code_ZMB', 'Country_code_ZWE', 'Country_code_unknown', 'Platform_ALL', 'Platform_Android', 'Platform_Android(All)', 'Platform_IOS', 'Platform_IOS(All)', 'Platform_android', 'Platform_iOS', 'Weekday_0', 'Weekday_1', 'Weekday_2', 'Weekday_3', 'Weekday_4', 'Weekday_5', 'Weekday_6', 'month_1', 'month_2', 'month_3', 'month_4', 'month_5', 'month_6', 'month_7', 'month_8', 'month_9', 'month_10', 'month_11', 'month_12']\n"
          ]
        }
      ]
    },
    {
      "cell_type": "code",
      "source": [
        "X_train.head()"
      ],
      "metadata": {
        "colab": {
          "base_uri": "https://localhost:8080/",
          "height": 394
        },
        "id": "Q1JCIJz9g0bV",
        "outputId": "95f01caf-b65c-46bc-a223-26cb0d437be4"
      },
      "execution_count": null,
      "outputs": [
        {
          "output_type": "execute_result",
          "data": {
            "text/plain": [
              "        Date          TRU         DAU       NRU     Revenue     Payer  \\\n",
              "0 2017-06-01  328115353.0  37040731.0  659119.0  1402681.83  168965.0   \n",
              "1 2017-06-01  100552561.0  10251221.0  134293.0  1341730.18   80891.0   \n",
              "2 2017-06-01  426084361.0  49280939.0  839167.0  2801595.40  255157.0   \n",
              "3 2017-06-02  426955711.0  50719801.0  871350.0  3083825.08  250595.0   \n",
              "4 2017-06-02  328804991.0  38415016.0  689638.0  1608268.27  169928.0   \n",
              "\n",
              "  UC Total Outflow (K)     D1     D7  AOT(min)  ... month_3  month_4  month_5  \\\n",
              "0               116232  55.41  27.77     127.5  ...       0        0        0   \n",
              "1               143366  53.53  27.74     115.4  ...       0        0        0   \n",
              "2               259592  53.83  26.64     124.5  ...       0        0        0   \n",
              "3               270912  53.76  27.01     125.0  ...       0        0        0   \n",
              "4               124751  55.21  28.01     127.6  ...       0        0        0   \n",
              "\n",
              "   month_6  month_7  month_8  month_9  month_10  month_11  month_12  \n",
              "0        1        0        0        0         0         0         0  \n",
              "1        1        0        0        0         0         0         0  \n",
              "2        1        0        0        0         0         0         0  \n",
              "3        1        0        0        0         0         0         0  \n",
              "4        1        0        0        0         0         0         0  \n",
              "\n",
              "[5 rows x 364 columns]"
            ],
            "text/html": [
              "\n",
              "  <div id=\"df-6857c027-6c6b-46e8-b997-41b89db06eb5\" class=\"colab-df-container\">\n",
              "    <div>\n",
              "<style scoped>\n",
              "    .dataframe tbody tr th:only-of-type {\n",
              "        vertical-align: middle;\n",
              "    }\n",
              "\n",
              "    .dataframe tbody tr th {\n",
              "        vertical-align: top;\n",
              "    }\n",
              "\n",
              "    .dataframe thead th {\n",
              "        text-align: right;\n",
              "    }\n",
              "</style>\n",
              "<table border=\"1\" class=\"dataframe\">\n",
              "  <thead>\n",
              "    <tr style=\"text-align: right;\">\n",
              "      <th></th>\n",
              "      <th>Date</th>\n",
              "      <th>TRU</th>\n",
              "      <th>DAU</th>\n",
              "      <th>NRU</th>\n",
              "      <th>Revenue</th>\n",
              "      <th>Payer</th>\n",
              "      <th>UC Total Outflow (K)</th>\n",
              "      <th>D1</th>\n",
              "      <th>D7</th>\n",
              "      <th>AOT(min)</th>\n",
              "      <th>...</th>\n",
              "      <th>month_3</th>\n",
              "      <th>month_4</th>\n",
              "      <th>month_5</th>\n",
              "      <th>month_6</th>\n",
              "      <th>month_7</th>\n",
              "      <th>month_8</th>\n",
              "      <th>month_9</th>\n",
              "      <th>month_10</th>\n",
              "      <th>month_11</th>\n",
              "      <th>month_12</th>\n",
              "    </tr>\n",
              "  </thead>\n",
              "  <tbody>\n",
              "    <tr>\n",
              "      <th>0</th>\n",
              "      <td>2017-06-01</td>\n",
              "      <td>328115353.0</td>\n",
              "      <td>37040731.0</td>\n",
              "      <td>659119.0</td>\n",
              "      <td>1402681.83</td>\n",
              "      <td>168965.0</td>\n",
              "      <td>116232</td>\n",
              "      <td>55.41</td>\n",
              "      <td>27.77</td>\n",
              "      <td>127.5</td>\n",
              "      <td>...</td>\n",
              "      <td>0</td>\n",
              "      <td>0</td>\n",
              "      <td>0</td>\n",
              "      <td>1</td>\n",
              "      <td>0</td>\n",
              "      <td>0</td>\n",
              "      <td>0</td>\n",
              "      <td>0</td>\n",
              "      <td>0</td>\n",
              "      <td>0</td>\n",
              "    </tr>\n",
              "    <tr>\n",
              "      <th>1</th>\n",
              "      <td>2017-06-01</td>\n",
              "      <td>100552561.0</td>\n",
              "      <td>10251221.0</td>\n",
              "      <td>134293.0</td>\n",
              "      <td>1341730.18</td>\n",
              "      <td>80891.0</td>\n",
              "      <td>143366</td>\n",
              "      <td>53.53</td>\n",
              "      <td>27.74</td>\n",
              "      <td>115.4</td>\n",
              "      <td>...</td>\n",
              "      <td>0</td>\n",
              "      <td>0</td>\n",
              "      <td>0</td>\n",
              "      <td>1</td>\n",
              "      <td>0</td>\n",
              "      <td>0</td>\n",
              "      <td>0</td>\n",
              "      <td>0</td>\n",
              "      <td>0</td>\n",
              "      <td>0</td>\n",
              "    </tr>\n",
              "    <tr>\n",
              "      <th>2</th>\n",
              "      <td>2017-06-01</td>\n",
              "      <td>426084361.0</td>\n",
              "      <td>49280939.0</td>\n",
              "      <td>839167.0</td>\n",
              "      <td>2801595.40</td>\n",
              "      <td>255157.0</td>\n",
              "      <td>259592</td>\n",
              "      <td>53.83</td>\n",
              "      <td>26.64</td>\n",
              "      <td>124.5</td>\n",
              "      <td>...</td>\n",
              "      <td>0</td>\n",
              "      <td>0</td>\n",
              "      <td>0</td>\n",
              "      <td>1</td>\n",
              "      <td>0</td>\n",
              "      <td>0</td>\n",
              "      <td>0</td>\n",
              "      <td>0</td>\n",
              "      <td>0</td>\n",
              "      <td>0</td>\n",
              "    </tr>\n",
              "    <tr>\n",
              "      <th>3</th>\n",
              "      <td>2017-06-02</td>\n",
              "      <td>426955711.0</td>\n",
              "      <td>50719801.0</td>\n",
              "      <td>871350.0</td>\n",
              "      <td>3083825.08</td>\n",
              "      <td>250595.0</td>\n",
              "      <td>270912</td>\n",
              "      <td>53.76</td>\n",
              "      <td>27.01</td>\n",
              "      <td>125.0</td>\n",
              "      <td>...</td>\n",
              "      <td>0</td>\n",
              "      <td>0</td>\n",
              "      <td>0</td>\n",
              "      <td>1</td>\n",
              "      <td>0</td>\n",
              "      <td>0</td>\n",
              "      <td>0</td>\n",
              "      <td>0</td>\n",
              "      <td>0</td>\n",
              "      <td>0</td>\n",
              "    </tr>\n",
              "    <tr>\n",
              "      <th>4</th>\n",
              "      <td>2017-06-02</td>\n",
              "      <td>328804991.0</td>\n",
              "      <td>38415016.0</td>\n",
              "      <td>689638.0</td>\n",
              "      <td>1608268.27</td>\n",
              "      <td>169928.0</td>\n",
              "      <td>124751</td>\n",
              "      <td>55.21</td>\n",
              "      <td>28.01</td>\n",
              "      <td>127.6</td>\n",
              "      <td>...</td>\n",
              "      <td>0</td>\n",
              "      <td>0</td>\n",
              "      <td>0</td>\n",
              "      <td>1</td>\n",
              "      <td>0</td>\n",
              "      <td>0</td>\n",
              "      <td>0</td>\n",
              "      <td>0</td>\n",
              "      <td>0</td>\n",
              "      <td>0</td>\n",
              "    </tr>\n",
              "  </tbody>\n",
              "</table>\n",
              "<p>5 rows × 364 columns</p>\n",
              "</div>\n",
              "    <div class=\"colab-df-buttons\">\n",
              "\n",
              "  <div class=\"colab-df-container\">\n",
              "    <button class=\"colab-df-convert\" onclick=\"convertToInteractive('df-6857c027-6c6b-46e8-b997-41b89db06eb5')\"\n",
              "            title=\"Convert this dataframe to an interactive table.\"\n",
              "            style=\"display:none;\">\n",
              "\n",
              "  <svg xmlns=\"http://www.w3.org/2000/svg\" height=\"24px\" viewBox=\"0 -960 960 960\">\n",
              "    <path d=\"M120-120v-720h720v720H120Zm60-500h600v-160H180v160Zm220 220h160v-160H400v160Zm0 220h160v-160H400v160ZM180-400h160v-160H180v160Zm440 0h160v-160H620v160ZM180-180h160v-160H180v160Zm440 0h160v-160H620v160Z\"/>\n",
              "  </svg>\n",
              "    </button>\n",
              "\n",
              "  <style>\n",
              "    .colab-df-container {\n",
              "      display:flex;\n",
              "      gap: 12px;\n",
              "    }\n",
              "\n",
              "    .colab-df-convert {\n",
              "      background-color: #E8F0FE;\n",
              "      border: none;\n",
              "      border-radius: 50%;\n",
              "      cursor: pointer;\n",
              "      display: none;\n",
              "      fill: #1967D2;\n",
              "      height: 32px;\n",
              "      padding: 0 0 0 0;\n",
              "      width: 32px;\n",
              "    }\n",
              "\n",
              "    .colab-df-convert:hover {\n",
              "      background-color: #E2EBFA;\n",
              "      box-shadow: 0px 1px 2px rgba(60, 64, 67, 0.3), 0px 1px 3px 1px rgba(60, 64, 67, 0.15);\n",
              "      fill: #174EA6;\n",
              "    }\n",
              "\n",
              "    .colab-df-buttons div {\n",
              "      margin-bottom: 4px;\n",
              "    }\n",
              "\n",
              "    [theme=dark] .colab-df-convert {\n",
              "      background-color: #3B4455;\n",
              "      fill: #D2E3FC;\n",
              "    }\n",
              "\n",
              "    [theme=dark] .colab-df-convert:hover {\n",
              "      background-color: #434B5C;\n",
              "      box-shadow: 0px 1px 3px 1px rgba(0, 0, 0, 0.15);\n",
              "      filter: drop-shadow(0px 1px 2px rgba(0, 0, 0, 0.3));\n",
              "      fill: #FFFFFF;\n",
              "    }\n",
              "  </style>\n",
              "\n",
              "    <script>\n",
              "      const buttonEl =\n",
              "        document.querySelector('#df-6857c027-6c6b-46e8-b997-41b89db06eb5 button.colab-df-convert');\n",
              "      buttonEl.style.display =\n",
              "        google.colab.kernel.accessAllowed ? 'block' : 'none';\n",
              "\n",
              "      async function convertToInteractive(key) {\n",
              "        const element = document.querySelector('#df-6857c027-6c6b-46e8-b997-41b89db06eb5');\n",
              "        const dataTable =\n",
              "          await google.colab.kernel.invokeFunction('convertToInteractive',\n",
              "                                                    [key], {});\n",
              "        if (!dataTable) return;\n",
              "\n",
              "        const docLinkHtml = 'Like what you see? Visit the ' +\n",
              "          '<a target=\"_blank\" href=https://colab.research.google.com/notebooks/data_table.ipynb>data table notebook</a>'\n",
              "          + ' to learn more about interactive tables.';\n",
              "        element.innerHTML = '';\n",
              "        dataTable['output_type'] = 'display_data';\n",
              "        await google.colab.output.renderOutput(dataTable, element);\n",
              "        const docLink = document.createElement('div');\n",
              "        docLink.innerHTML = docLinkHtml;\n",
              "        element.appendChild(docLink);\n",
              "      }\n",
              "    </script>\n",
              "  </div>\n",
              "\n",
              "\n",
              "<div id=\"df-5b5367b9-8b30-4740-8036-4ab77bb58d3e\">\n",
              "  <button class=\"colab-df-quickchart\" onclick=\"quickchart('df-5b5367b9-8b30-4740-8036-4ab77bb58d3e')\"\n",
              "            title=\"Suggest charts\"\n",
              "            style=\"display:none;\">\n",
              "\n",
              "<svg xmlns=\"http://www.w3.org/2000/svg\" height=\"24px\"viewBox=\"0 0 24 24\"\n",
              "     width=\"24px\">\n",
              "    <g>\n",
              "        <path d=\"M19 3H5c-1.1 0-2 .9-2 2v14c0 1.1.9 2 2 2h14c1.1 0 2-.9 2-2V5c0-1.1-.9-2-2-2zM9 17H7v-7h2v7zm4 0h-2V7h2v10zm4 0h-2v-4h2v4z\"/>\n",
              "    </g>\n",
              "</svg>\n",
              "  </button>\n",
              "\n",
              "<style>\n",
              "  .colab-df-quickchart {\n",
              "      --bg-color: #E8F0FE;\n",
              "      --fill-color: #1967D2;\n",
              "      --hover-bg-color: #E2EBFA;\n",
              "      --hover-fill-color: #174EA6;\n",
              "      --disabled-fill-color: #AAA;\n",
              "      --disabled-bg-color: #DDD;\n",
              "  }\n",
              "\n",
              "  [theme=dark] .colab-df-quickchart {\n",
              "      --bg-color: #3B4455;\n",
              "      --fill-color: #D2E3FC;\n",
              "      --hover-bg-color: #434B5C;\n",
              "      --hover-fill-color: #FFFFFF;\n",
              "      --disabled-bg-color: #3B4455;\n",
              "      --disabled-fill-color: #666;\n",
              "  }\n",
              "\n",
              "  .colab-df-quickchart {\n",
              "    background-color: var(--bg-color);\n",
              "    border: none;\n",
              "    border-radius: 50%;\n",
              "    cursor: pointer;\n",
              "    display: none;\n",
              "    fill: var(--fill-color);\n",
              "    height: 32px;\n",
              "    padding: 0;\n",
              "    width: 32px;\n",
              "  }\n",
              "\n",
              "  .colab-df-quickchart:hover {\n",
              "    background-color: var(--hover-bg-color);\n",
              "    box-shadow: 0 1px 2px rgba(60, 64, 67, 0.3), 0 1px 3px 1px rgba(60, 64, 67, 0.15);\n",
              "    fill: var(--button-hover-fill-color);\n",
              "  }\n",
              "\n",
              "  .colab-df-quickchart-complete:disabled,\n",
              "  .colab-df-quickchart-complete:disabled:hover {\n",
              "    background-color: var(--disabled-bg-color);\n",
              "    fill: var(--disabled-fill-color);\n",
              "    box-shadow: none;\n",
              "  }\n",
              "\n",
              "  .colab-df-spinner {\n",
              "    border: 2px solid var(--fill-color);\n",
              "    border-color: transparent;\n",
              "    border-bottom-color: var(--fill-color);\n",
              "    animation:\n",
              "      spin 1s steps(1) infinite;\n",
              "  }\n",
              "\n",
              "  @keyframes spin {\n",
              "    0% {\n",
              "      border-color: transparent;\n",
              "      border-bottom-color: var(--fill-color);\n",
              "      border-left-color: var(--fill-color);\n",
              "    }\n",
              "    20% {\n",
              "      border-color: transparent;\n",
              "      border-left-color: var(--fill-color);\n",
              "      border-top-color: var(--fill-color);\n",
              "    }\n",
              "    30% {\n",
              "      border-color: transparent;\n",
              "      border-left-color: var(--fill-color);\n",
              "      border-top-color: var(--fill-color);\n",
              "      border-right-color: var(--fill-color);\n",
              "    }\n",
              "    40% {\n",
              "      border-color: transparent;\n",
              "      border-right-color: var(--fill-color);\n",
              "      border-top-color: var(--fill-color);\n",
              "    }\n",
              "    60% {\n",
              "      border-color: transparent;\n",
              "      border-right-color: var(--fill-color);\n",
              "    }\n",
              "    80% {\n",
              "      border-color: transparent;\n",
              "      border-right-color: var(--fill-color);\n",
              "      border-bottom-color: var(--fill-color);\n",
              "    }\n",
              "    90% {\n",
              "      border-color: transparent;\n",
              "      border-bottom-color: var(--fill-color);\n",
              "    }\n",
              "  }\n",
              "</style>\n",
              "\n",
              "  <script>\n",
              "    async function quickchart(key) {\n",
              "      const quickchartButtonEl =\n",
              "        document.querySelector('#' + key + ' button');\n",
              "      quickchartButtonEl.disabled = true;  // To prevent multiple clicks.\n",
              "      quickchartButtonEl.classList.add('colab-df-spinner');\n",
              "      try {\n",
              "        const charts = await google.colab.kernel.invokeFunction(\n",
              "            'suggestCharts', [key], {});\n",
              "      } catch (error) {\n",
              "        console.error('Error during call to suggestCharts:', error);\n",
              "      }\n",
              "      quickchartButtonEl.classList.remove('colab-df-spinner');\n",
              "      quickchartButtonEl.classList.add('colab-df-quickchart-complete');\n",
              "    }\n",
              "    (() => {\n",
              "      let quickchartButtonEl =\n",
              "        document.querySelector('#df-5b5367b9-8b30-4740-8036-4ab77bb58d3e button');\n",
              "      quickchartButtonEl.style.display =\n",
              "        google.colab.kernel.accessAllowed ? 'block' : 'none';\n",
              "    })();\n",
              "  </script>\n",
              "</div>\n",
              "\n",
              "    </div>\n",
              "  </div>\n"
            ],
            "application/vnd.google.colaboratory.intrinsic+json": {
              "type": "dataframe",
              "variable_name": "X_train"
            }
          },
          "metadata": {},
          "execution_count": 33
        }
      ]
    },
    {
      "cell_type": "code",
      "source": [],
      "metadata": {
        "id": "NeAIvA36iKVI"
      },
      "execution_count": null,
      "outputs": []
    },
    {
      "cell_type": "code",
      "source": [
        "# LightGBM parameters\n",
        "lgb_params = {'task':'train', 'boosting_type':'gbdt', 'objective':'regression',\n",
        "              'metric': {'mae'}, 'num_leaves': 10, 'learning_rate': 0.02,\n",
        "              'feature_fraction': 0.8, 'max_depth': 5, 'verbose': 0,\n",
        "              'num_boost_round':15000, 'early_stopping_rounds':200, 'nthread':-1}"
      ],
      "metadata": {
        "id": "0S7Od0LKiKX5"
      },
      "execution_count": null,
      "outputs": []
    },
    {
      "cell_type": "code",
      "source": [
        "X_train.info()"
      ],
      "metadata": {
        "colab": {
          "base_uri": "https://localhost:8080/"
        },
        "id": "62Cy9kGSpRc6",
        "outputId": "224a0e2a-7149-46ef-f59f-cb0960a45d30"
      },
      "execution_count": null,
      "outputs": [
        {
          "output_type": "stream",
          "name": "stdout",
          "text": [
            "<class 'pandas.core.frame.DataFrame'>\n",
            "Int64Index: 376291 entries, 0 to 378232\n",
            "Columns: 363 entries, Date to month_12\n",
            "dtypes: datetime64[ns](1), float64(99), int64(1), object(1), uint8(261)\n",
            "memory usage: 389.4+ MB\n"
          ]
        }
      ]
    },
    {
      "cell_type": "code",
      "source": [
        "object_columns = X_train.select_dtypes(include=['object']).columns\n"
      ],
      "metadata": {
        "id": "yUJKDKUVpuM3"
      },
      "execution_count": null,
      "outputs": []
    },
    {
      "cell_type": "code",
      "source": [
        "object_columns"
      ],
      "metadata": {
        "colab": {
          "base_uri": "https://localhost:8080/"
        },
        "id": "aqoftR1Cpv3g",
        "outputId": "acb91433-82d9-4fdb-e6aa-f8aba3fc01a2"
      },
      "execution_count": null,
      "outputs": [
        {
          "output_type": "execute_result",
          "data": {
            "text/plain": [
              "Index([], dtype='object')"
            ]
          },
          "metadata": {},
          "execution_count": 72
        }
      ]
    },
    {
      "cell_type": "code",
      "source": [
        "# Creating lgbtrain & lgbval\n",
        "lgbtrain = lgb.Dataset(data=X_train.loc[:,cols].values, label=Y_train,\n",
        "                       feature_name=cols)\n",
        "lgbval = lgb.Dataset(data=X_test.loc[:,cols].values, label=Y_test,\n",
        "                     reference=lgbtrain, feature_name=cols)"
      ],
      "metadata": {
        "id": "bNNmo599iK-Z"
      },
      "execution_count": null,
      "outputs": []
    },
    {
      "cell_type": "code",
      "source": [
        "def smape(preds, target):\n",
        "    '''\n",
        "    Function to calculate SMAPE\n",
        "    '''\n",
        "    n = len(preds)\n",
        "    masked_arr = ~((preds==0)&(target==0))\n",
        "    preds, target = preds[masked_arr], target[masked_arr]\n",
        "    num = np.abs(preds-target)\n",
        "    denom = np.abs(preds)+np.abs(target)\n",
        "    smape_val = (200*np.sum(num/denom))/n\n",
        "    return smape_val\n",
        "\n",
        "def lgbm_smape(preds, train_data):\n",
        "    '''\n",
        "    Custom Evaluation Function for LGBM\n",
        "    '''\n",
        "    labels = train_data.get_label()\n",
        "    smape_val = smape(np.expm1(preds), np.expm1(labels))\n",
        "    return 'SMAPE', smape_val, False"
      ],
      "metadata": {
        "id": "F-F70bdJj4b8"
      },
      "execution_count": null,
      "outputs": []
    },
    {
      "cell_type": "code",
      "source": [
        "def lgb_validation(params, lgbtrain, lgbval, X_test, Y_test, verbose_eval):\n",
        "    t0 = time.time()\n",
        "    evals_result = {}\n",
        "    model = lgb.train(params, lgbtrain, num_boost_round=params['num_boost_round'],\n",
        "                      valid_sets=[lgbtrain, lgbval], feval=lgbm_smape,\n",
        "                      early_stopping_rounds=params['early_stopping_rounds'],\n",
        "                      evals_result=evals_result, verbose_eval=verbose_eval)\n",
        "    print(model.best_iteration)\n",
        "    print('Total time taken to build the model: ', (time.time()-t0)/60, 'minutes!!')\n",
        "    pred_Y_test = model.predict(X_test, num_iteration=model.best_iteration)\n",
        "    pred_Y_test = np.expm1(pred_Y_test)\n",
        "    Y_test = np.expm1(Y_test)\n",
        "    test_df = pd.DataFrame(columns=['true_Y_test','pred_Y_test'])\n",
        "    test_df['pred_Y_test'] = pred_Y_test\n",
        "    test_df['true_Y_test'] = Y_test\n",
        "\n",
        "    print('SMAPE for validation data is:{}'.format(smape(pred_Y_test, Y_test)))\n",
        "    return model, test_df"
      ],
      "metadata": {
        "id": "DocHG-YhiwRn"
      },
      "execution_count": null,
      "outputs": []
    },
    {
      "cell_type": "code",
      "source": [
        "# Training lightgbm model and validating\n",
        "model, val_df = lgb_validation(lgb_params, lgbtrain, lgbval, X_test.loc[:,cols].values,\n",
        "                               Y_test, verbose_eval=500)"
      ],
      "metadata": {
        "colab": {
          "base_uri": "https://localhost:8080/"
        },
        "id": "cDjYgaF2j--w",
        "outputId": "9bd6fee7-9092-4c53-8cca-e02f1eebd3e0"
      },
      "execution_count": null,
      "outputs": [
        {
          "output_type": "stream",
          "name": "stderr",
          "text": [
            "/usr/local/lib/python3.10/dist-packages/lightgbm/engine.py:177: UserWarning: Found `num_boost_round` in params. Will use it instead of argument\n",
            "  _log_warning(f\"Found `{alias}` in params. Will use it instead of argument\")\n",
            "/usr/local/lib/python3.10/dist-packages/lightgbm/engine.py:181: UserWarning: 'early_stopping_rounds' argument is deprecated and will be removed in a future release of LightGBM. Pass 'early_stopping()' callback via 'callbacks' argument instead.\n",
            "  _log_warning(\"'early_stopping_rounds' argument is deprecated and will be removed in a future release of LightGBM. \"\n",
            "/usr/local/lib/python3.10/dist-packages/lightgbm/engine.py:240: UserWarning: 'verbose_eval' argument is deprecated and will be removed in a future release of LightGBM. Pass 'log_evaluation()' callback via 'callbacks' argument instead.\n",
            "  _log_warning(\"'verbose_eval' argument is deprecated and will be removed in a future release of LightGBM. \"\n",
            "/usr/local/lib/python3.10/dist-packages/lightgbm/engine.py:261: UserWarning: 'evals_result' argument is deprecated and will be removed in a future release of LightGBM. Pass 'record_evaluation()' callback via 'callbacks' argument instead.\n",
            "  _log_warning(\"'evals_result' argument is deprecated and will be removed in a future release of LightGBM. \"\n"
          ]
        },
        {
          "output_type": "stream",
          "name": "stdout",
          "text": [
            "[LightGBM] [Warning] Found whitespace in feature_names, replace with underlines\n",
            "[LightGBM] [Warning] Auto-choosing col-wise multi-threading, the overhead of testing was 0.403418 seconds.\n",
            "You can set `force_col_wise=true` to remove the overhead.\n",
            "[LightGBM] [Warning] Found whitespace in feature_names, replace with underlines\n",
            "Training until validation scores don't improve for 200 rounds\n",
            "[500]\ttraining's l1: 0.283841\ttraining's SMAPE: 27.6557\tvalid_1's l1: 0.217295\tvalid_1's SMAPE: 21.4172\n",
            "[1000]\ttraining's l1: 0.262765\ttraining's SMAPE: 25.6794\tvalid_1's l1: 0.200732\tvalid_1's SMAPE: 19.8128\n",
            "[1500]\ttraining's l1: 0.252618\ttraining's SMAPE: 24.7266\tvalid_1's l1: 0.194155\tvalid_1's SMAPE: 19.1748\n",
            "[2000]\ttraining's l1: 0.246389\ttraining's SMAPE: 24.1432\tvalid_1's l1: 0.190656\tvalid_1's SMAPE: 18.8367\n",
            "[2500]\ttraining's l1: 0.242095\ttraining's SMAPE: 23.7443\tvalid_1's l1: 0.188056\tvalid_1's SMAPE: 18.5851\n",
            "[3000]\ttraining's l1: 0.239013\ttraining's SMAPE: 23.4603\tvalid_1's l1: 0.186341\tvalid_1's SMAPE: 18.4192\n",
            "[3500]\ttraining's l1: 0.236513\ttraining's SMAPE: 23.229\tvalid_1's l1: 0.184902\tvalid_1's SMAPE: 18.2798\n",
            "[4000]\ttraining's l1: 0.23458\ttraining's SMAPE: 23.0521\tvalid_1's l1: 0.18407\tvalid_1's SMAPE: 18.2\n",
            "[4500]\ttraining's l1: 0.232882\ttraining's SMAPE: 22.8956\tvalid_1's l1: 0.183195\tvalid_1's SMAPE: 18.1154\n",
            "[5000]\ttraining's l1: 0.231311\ttraining's SMAPE: 22.7516\tvalid_1's l1: 0.182507\tvalid_1's SMAPE: 18.0489\n",
            "[5500]\ttraining's l1: 0.229856\ttraining's SMAPE: 22.6182\tvalid_1's l1: 0.181827\tvalid_1's SMAPE: 17.9827\n",
            "[6000]\ttraining's l1: 0.228485\ttraining's SMAPE: 22.4913\tvalid_1's l1: 0.181253\tvalid_1's SMAPE: 17.9267\n",
            "[6500]\ttraining's l1: 0.227217\ttraining's SMAPE: 22.3751\tvalid_1's l1: 0.180805\tvalid_1's SMAPE: 17.8835\n",
            "[7000]\ttraining's l1: 0.226009\ttraining's SMAPE: 22.2636\tvalid_1's l1: 0.180235\tvalid_1's SMAPE: 17.8283\n",
            "[7500]\ttraining's l1: 0.224882\ttraining's SMAPE: 22.1607\tvalid_1's l1: 0.179676\tvalid_1's SMAPE: 17.7736\n",
            "[8000]\ttraining's l1: 0.223739\ttraining's SMAPE: 22.0564\tvalid_1's l1: 0.178768\tvalid_1's SMAPE: 17.6839\n",
            "[8500]\ttraining's l1: 0.222529\ttraining's SMAPE: 21.9444\tvalid_1's l1: 0.178252\tvalid_1's SMAPE: 17.634\n",
            "Early stopping, best iteration is:\n",
            "[8615]\ttraining's l1: 0.222301\ttraining's SMAPE: 21.9236\tvalid_1's l1: 0.178159\tvalid_1's SMAPE: 17.6249\n",
            "8615\n",
            "Total time taken to build the model:  20.579565068085987 minutes!!\n",
            "(99282, 2)\n",
            "       true_Y_test   pred_Y_test\n",
            "4460        347.10    310.171894\n",
            "15355     11414.25  13149.024723\n",
            "10312     39291.72  33638.026425\n",
            "26235       248.31    160.536035\n",
            "63022      2066.58   2079.508354\n",
            "SMAPE for validation data is:17.624931512484107\n"
          ]
        }
      ]
    },
    {
      "cell_type": "code",
      "source": [
        "plt.plot(val_df['true_Y_test'], label = 'true')\n",
        "plt.plot(val_df['pred_Y_test'], label = 'predicted')\n",
        "plt.legend(loc = 'best')\n",
        "# plt.ylabel(VAR)\n",
        "plt.show()"
      ],
      "metadata": {
        "colab": {
          "base_uri": "https://localhost:8080/",
          "height": 445
        },
        "id": "cP-Tv88Jxu61",
        "outputId": "f782b397-4e93-4fa7-dc50-233653335bb3"
      },
      "execution_count": null,
      "outputs": [
        {
          "output_type": "display_data",
          "data": {
            "text/plain": [
              "<Figure size 640x480 with 1 Axes>"
            ],
            "image/png": "[encoded data removed]"
          },
          "metadata": {}
        }
      ]
    },
    {
      "cell_type": "code",
      "source": [
        "val_timeframe"
      ],
      "metadata": {
        "colab": {
          "base_uri": "https://localhost:8080/",
          "height": 423
        },
        "id": "Rmbl68tgy0Eg",
        "outputId": "05a9a42a-4ffb-4074-cc57-acc6ecf08e27"
      },
      "execution_count": null,
      "outputs": [
        {
          "output_type": "execute_result",
          "data": {
            "text/plain": [
              "             Date      Platform            Country         TRU        DAU  \\\n",
              "378259 2019-01-01           ALL  United States(美国)  49531609.0  1219511.0   \n",
              "378604 2019-01-01  Android(All)  United States(美国)  27720027.0   669037.0   \n",
              "378794 2019-01-01           IOS  United States(美国)  23088065.0   548143.0   \n",
              "378960 2019-01-02           IOS  United States(美国)  23107256.0   545626.0   \n",
              "379303 2019-01-02           ALL  United States(美国)  49580404.0  1229799.0   \n",
              "...           ...           ...                ...         ...        ...   \n",
              "476184 2019-05-30  Android(All)  United States(美国)  32381703.0   834551.0   \n",
              "476415 2019-05-30           IOS  United States(美国)  25699530.0   639725.0   \n",
              "476592 2019-05-31  Android(All)  United States(美国)  32413932.0   842975.0   \n",
              "476635 2019-05-31           IOS  United States(美国)  25717196.0   635069.0   \n",
              "477057 2019-05-31           ALL  United States(美国)  56686697.0  1481107.0   \n",
              "\n",
              "            NRU    Revenue    Payer  UC Total Outflow (K)     D1     D7  \\\n",
              "378259  47402.0  12.077204  11686.0               10637.0  41.86  18.78   \n",
              "378604  28458.0  11.102747   5449.0                3541.0  42.35  19.12   \n",
              "378794  20540.0  11.589728   6210.0                7096.0  41.48  18.86   \n",
              "378960  19289.0  11.600851   5330.0                6764.0  41.25  17.54   \n",
              "379303  48893.0  12.083426   9528.0                9989.0  40.89  16.81   \n",
              "...         ...        ...      ...                   ...    ...    ...   \n",
              "476184  28053.0  11.947498   7750.0                8711.0  39.27  18.43   \n",
              "476415  18517.0  12.701712  10542.0               29246.0  40.71  18.26   \n",
              "476592  32327.0  11.725660   6873.0                6668.0  32.42  15.46   \n",
              "476635  17764.0  12.339773   9141.0               16137.0  39.58  18.89   \n",
              "477057  48859.0  12.779945  16023.0               22819.0  34.82  16.44   \n",
              "\n",
              "        AOT(min) Country_code  Weekday  month  year  \n",
              "378259     112.9          USA        1      1  2019  \n",
              "378604     120.8          USA        1      1  2019  \n",
              "378794     102.3          USA        1      1  2019  \n",
              "378960     102.5          USA        2      1  2019  \n",
              "379303     111.5          USA        2      1  2019  \n",
              "...          ...          ...      ...    ...   ...  \n",
              "476184     140.9          USA        3      5  2019  \n",
              "476415     117.2          USA        3      5  2019  \n",
              "476592     139.7          USA        4      5  2019  \n",
              "476635     116.5          USA        4      5  2019  \n",
              "477057     130.0          USA        4      5  2019  \n",
              "\n",
              "[453 rows x 16 columns]"
            ],
            "text/html": [
              "\n",
              "  <div id=\"df-f3061502-e572-462b-beff-8f232db2b783\" class=\"colab-df-container\">\n",
              "    <div>\n",
              "<style scoped>\n",
              "    .dataframe tbody tr th:only-of-type {\n",
              "        vertical-align: middle;\n",
              "    }\n",
              "\n",
              "    .dataframe tbody tr th {\n",
              "        vertical-align: top;\n",
              "    }\n",
              "\n",
              "    .dataframe thead th {\n",
              "        text-align: right;\n",
              "    }\n",
              "</style>\n",
              "<table border=\"1\" class=\"dataframe\">\n",
              "  <thead>\n",
              "    <tr style=\"text-align: right;\">\n",
              "      <th></th>\n",
              "      <th>Date</th>\n",
              "      <th>Platform</th>\n",
              "      <th>Country</th>\n",
              "      <th>TRU</th>\n",
              "      <th>DAU</th>\n",
              "      <th>NRU</th>\n",
              "      <th>Revenue</th>\n",
              "      <th>Payer</th>\n",
              "      <th>UC Total Outflow (K)</th>\n",
              "      <th>D1</th>\n",
              "      <th>D7</th>\n",
              "      <th>AOT(min)</th>\n",
              "      <th>Country_code</th>\n",
              "      <th>Weekday</th>\n",
              "      <th>month</th>\n",
              "      <th>year</th>\n",
              "    </tr>\n",
              "  </thead>\n",
              "  <tbody>\n",
              "    <tr>\n",
              "      <th>378259</th>\n",
              "      <td>2019-01-01</td>\n",
              "      <td>ALL</td>\n",
              "      <td>United States(美国)</td>\n",
              "      <td>49531609.0</td>\n",
              "      <td>1219511.0</td>\n",
              "      <td>47402.0</td>\n",
              "      <td>12.077204</td>\n",
              "      <td>11686.0</td>\n",
              "      <td>10637.0</td>\n",
              "      <td>41.86</td>\n",
              "      <td>18.78</td>\n",
              "      <td>112.9</td>\n",
              "      <td>USA</td>\n",
              "      <td>1</td>\n",
              "      <td>1</td>\n",
              "      <td>2019</td>\n",
              "    </tr>\n",
              "    <tr>\n",
              "      <th>378604</th>\n",
              "      <td>2019-01-01</td>\n",
              "      <td>Android(All)</td>\n",
              "      <td>United States(美国)</td>\n",
              "      <td>27720027.0</td>\n",
              "      <td>669037.0</td>\n",
              "      <td>28458.0</td>\n",
              "      <td>11.102747</td>\n",
              "      <td>5449.0</td>\n",
              "      <td>3541.0</td>\n",
              "      <td>42.35</td>\n",
              "      <td>19.12</td>\n",
              "      <td>120.8</td>\n",
              "      <td>USA</td>\n",
              "      <td>1</td>\n",
              "      <td>1</td>\n",
              "      <td>2019</td>\n",
              "    </tr>\n",
              "    <tr>\n",
              "      <th>378794</th>\n",
              "      <td>2019-01-01</td>\n",
              "      <td>IOS</td>\n",
              "      <td>United States(美国)</td>\n",
              "      <td>23088065.0</td>\n",
              "      <td>548143.0</td>\n",
              "      <td>20540.0</td>\n",
              "      <td>11.589728</td>\n",
              "      <td>6210.0</td>\n",
              "      <td>7096.0</td>\n",
              "      <td>41.48</td>\n",
              "      <td>18.86</td>\n",
              "      <td>102.3</td>\n",
              "      <td>USA</td>\n",
              "      <td>1</td>\n",
              "      <td>1</td>\n",
              "      <td>2019</td>\n",
              "    </tr>\n",
              "    <tr>\n",
              "      <th>378960</th>\n",
              "      <td>2019-01-02</td>\n",
              "      <td>IOS</td>\n",
              "      <td>United States(美国)</td>\n",
              "      <td>23107256.0</td>\n",
              "      <td>545626.0</td>\n",
              "      <td>19289.0</td>\n",
              "      <td>11.600851</td>\n",
              "      <td>5330.0</td>\n",
              "      <td>6764.0</td>\n",
              "      <td>41.25</td>\n",
              "      <td>17.54</td>\n",
              "      <td>102.5</td>\n",
              "      <td>USA</td>\n",
              "      <td>2</td>\n",
              "      <td>1</td>\n",
              "      <td>2019</td>\n",
              "    </tr>\n",
              "    <tr>\n",
              "      <th>379303</th>\n",
              "      <td>2019-01-02</td>\n",
              "      <td>ALL</td>\n",
              "      <td>United States(美国)</td>\n",
              "      <td>49580404.0</td>\n",
              "      <td>1229799.0</td>\n",
              "      <td>48893.0</td>\n",
              "      <td>12.083426</td>\n",
              "      <td>9528.0</td>\n",
              "      <td>9989.0</td>\n",
              "      <td>40.89</td>\n",
              "      <td>16.81</td>\n",
              "      <td>111.5</td>\n",
              "      <td>USA</td>\n",
              "      <td>2</td>\n",
              "      <td>1</td>\n",
              "      <td>2019</td>\n",
              "    </tr>\n",
              "    <tr>\n",
              "      <th>...</th>\n",
              "      <td>...</td>\n",
              "      <td>...</td>\n",
              "      <td>...</td>\n",
              "      <td>...</td>\n",
              "      <td>...</td>\n",
              "      <td>...</td>\n",
              "      <td>...</td>\n",
              "      <td>...</td>\n",
              "      <td>...</td>\n",
              "      <td>...</td>\n",
              "      <td>...</td>\n",
              "      <td>...</td>\n",
              "      <td>...</td>\n",
              "      <td>...</td>\n",
              "      <td>...</td>\n",
              "      <td>...</td>\n",
              "    </tr>\n",
              "    <tr>\n",
              "      <th>476184</th>\n",
              "      <td>2019-05-30</td>\n",
              "      <td>Android(All)</td>\n",
              "      <td>United States(美国)</td>\n",
              "      <td>32381703.0</td>\n",
              "      <td>834551.0</td>\n",
              "      <td>28053.0</td>\n",
              "      <td>11.947498</td>\n",
              "      <td>7750.0</td>\n",
              "      <td>8711.0</td>\n",
              "      <td>39.27</td>\n",
              "      <td>18.43</td>\n",
              "      <td>140.9</td>\n",
              "      <td>USA</td>\n",
              "      <td>3</td>\n",
              "      <td>5</td>\n",
              "      <td>2019</td>\n",
              "    </tr>\n",
              "    <tr>\n",
              "      <th>476415</th>\n",
              "      <td>2019-05-30</td>\n",
              "      <td>IOS</td>\n",
              "      <td>United States(美国)</td>\n",
              "      <td>25699530.0</td>\n",
              "      <td>639725.0</td>\n",
              "      <td>18517.0</td>\n",
              "      <td>12.701712</td>\n",
              "      <td>10542.0</td>\n",
              "      <td>29246.0</td>\n",
              "      <td>40.71</td>\n",
              "      <td>18.26</td>\n",
              "      <td>117.2</td>\n",
              "      <td>USA</td>\n",
              "      <td>3</td>\n",
              "      <td>5</td>\n",
              "      <td>2019</td>\n",
              "    </tr>\n",
              "    <tr>\n",
              "      <th>476592</th>\n",
              "      <td>2019-05-31</td>\n",
              "      <td>Android(All)</td>\n",
              "      <td>United States(美国)</td>\n",
              "      <td>32413932.0</td>\n",
              "      <td>842975.0</td>\n",
              "      <td>32327.0</td>\n",
              "      <td>11.725660</td>\n",
              "      <td>6873.0</td>\n",
              "      <td>6668.0</td>\n",
              "      <td>32.42</td>\n",
              "      <td>15.46</td>\n",
              "      <td>139.7</td>\n",
              "      <td>USA</td>\n",
              "      <td>4</td>\n",
              "      <td>5</td>\n",
              "      <td>2019</td>\n",
              "    </tr>\n",
              "    <tr>\n",
              "      <th>476635</th>\n",
              "      <td>2019-05-31</td>\n",
              "      <td>IOS</td>\n",
              "      <td>United States(美国)</td>\n",
              "      <td>25717196.0</td>\n",
              "      <td>635069.0</td>\n",
              "      <td>17764.0</td>\n",
              "      <td>12.339773</td>\n",
              "      <td>9141.0</td>\n",
              "      <td>16137.0</td>\n",
              "      <td>39.58</td>\n",
              "      <td>18.89</td>\n",
              "      <td>116.5</td>\n",
              "      <td>USA</td>\n",
              "      <td>4</td>\n",
              "      <td>5</td>\n",
              "      <td>2019</td>\n",
              "    </tr>\n",
              "    <tr>\n",
              "      <th>477057</th>\n",
              "      <td>2019-05-31</td>\n",
              "      <td>ALL</td>\n",
              "      <td>United States(美国)</td>\n",
              "      <td>56686697.0</td>\n",
              "      <td>1481107.0</td>\n",
              "      <td>48859.0</td>\n",
              "      <td>12.779945</td>\n",
              "      <td>16023.0</td>\n",
              "      <td>22819.0</td>\n",
              "      <td>34.82</td>\n",
              "      <td>16.44</td>\n",
              "      <td>130.0</td>\n",
              "      <td>USA</td>\n",
              "      <td>4</td>\n",
              "      <td>5</td>\n",
              "      <td>2019</td>\n",
              "    </tr>\n",
              "  </tbody>\n",
              "</table>\n",
              "<p>453 rows × 16 columns</p>\n",
              "</div>\n",
              "    <div class=\"colab-df-buttons\">\n",
              "\n",
              "  <div class=\"colab-df-container\">\n",
              "    <button class=\"colab-df-convert\" onclick=\"convertToInteractive('df-f3061502-e572-462b-beff-8f232db2b783')\"\n",
              "            title=\"Convert this dataframe to an interactive table.\"\n",
              "            style=\"display:none;\">\n",
              "\n",
              "  <svg xmlns=\"http://www.w3.org/2000/svg\" height=\"24px\" viewBox=\"0 -960 960 960\">\n",
              "    <path d=\"M120-120v-720h720v720H120Zm60-500h600v-160H180v160Zm220 220h160v-160H400v160Zm0 220h160v-160H400v160ZM180-400h160v-160H180v160Zm440 0h160v-160H620v160ZM180-180h160v-160H180v160Zm440 0h160v-160H620v160Z\"/>\n",
              "  </svg>\n",
              "    </button>\n",
              "\n",
              "  <style>\n",
              "    .colab-df-container {\n",
              "      display:flex;\n",
              "      gap: 12px;\n",
              "    }\n",
              "\n",
              "    .colab-df-convert {\n",
              "      background-color: #E8F0FE;\n",
              "      border: none;\n",
              "      border-radius: 50%;\n",
              "      cursor: pointer;\n",
              "      display: none;\n",
              "      fill: #1967D2;\n",
              "      height: 32px;\n",
              "      padding: 0 0 0 0;\n",
              "      width: 32px;\n",
              "    }\n",
              "\n",
              "    .colab-df-convert:hover {\n",
              "      background-color: #E2EBFA;\n",
              "      box-shadow: 0px 1px 2px rgba(60, 64, 67, 0.3), 0px 1px 3px 1px rgba(60, 64, 67, 0.15);\n",
              "      fill: #174EA6;\n",
              "    }\n",
              "\n",
              "    .colab-df-buttons div {\n",
              "      margin-bottom: 4px;\n",
              "    }\n",
              "\n",
              "    [theme=dark] .colab-df-convert {\n",
              "      background-color: #3B4455;\n",
              "      fill: #D2E3FC;\n",
              "    }\n",
              "\n",
              "    [theme=dark] .colab-df-convert:hover {\n",
              "      background-color: #434B5C;\n",
              "      box-shadow: 0px 1px 3px 1px rgba(0, 0, 0, 0.15);\n",
              "      filter: drop-shadow(0px 1px 2px rgba(0, 0, 0, 0.3));\n",
              "      fill: #FFFFFF;\n",
              "    }\n",
              "  </style>\n",
              "\n",
              "    <script>\n",
              "      const buttonEl =\n",
              "        document.querySelector('#df-f3061502-e572-462b-beff-8f232db2b783 button.colab-df-convert');\n",
              "      buttonEl.style.display =\n",
              "        google.colab.kernel.accessAllowed ? 'block' : 'none';\n",
              "\n",
              "      async function convertToInteractive(key) {\n",
              "        const element = document.querySelector('#df-f3061502-e572-462b-beff-8f232db2b783');\n",
              "        const dataTable =\n",
              "          await google.colab.kernel.invokeFunction('convertToInteractive',\n",
              "                                                    [key], {});\n",
              "        if (!dataTable) return;\n",
              "\n",
              "        const docLinkHtml = 'Like what you see? Visit the ' +\n",
              "          '<a target=\"_blank\" href=https://colab.research.google.com/notebooks/data_table.ipynb>data table notebook</a>'\n",
              "          + ' to learn more about interactive tables.';\n",
              "        element.innerHTML = '';\n",
              "        dataTable['output_type'] = 'display_data';\n",
              "        await google.colab.output.renderOutput(dataTable, element);\n",
              "        const docLink = document.createElement('div');\n",
              "        docLink.innerHTML = docLinkHtml;\n",
              "        element.appendChild(docLink);\n",
              "      }\n",
              "    </script>\n",
              "  </div>\n",
              "\n",
              "\n",
              "<div id=\"df-89c14d2a-26b4-4883-9339-ef4f6327ea04\">\n",
              "  <button class=\"colab-df-quickchart\" onclick=\"quickchart('df-89c14d2a-26b4-4883-9339-ef4f6327ea04')\"\n",
              "            title=\"Suggest charts\"\n",
              "            style=\"display:none;\">\n",
              "\n",
              "<svg xmlns=\"http://www.w3.org/2000/svg\" height=\"24px\"viewBox=\"0 0 24 24\"\n",
              "     width=\"24px\">\n",
              "    <g>\n",
              "        <path d=\"M19 3H5c-1.1 0-2 .9-2 2v14c0 1.1.9 2 2 2h14c1.1 0 2-.9 2-2V5c0-1.1-.9-2-2-2zM9 17H7v-7h2v7zm4 0h-2V7h2v10zm4 0h-2v-4h2v4z\"/>\n",
              "    </g>\n",
              "</svg>\n",
              "  </button>\n",
              "\n",
              "<style>\n",
              "  .colab-df-quickchart {\n",
              "      --bg-color: #E8F0FE;\n",
              "      --fill-color: #1967D2;\n",
              "      --hover-bg-color: #E2EBFA;\n",
              "      --hover-fill-color: #174EA6;\n",
              "      --disabled-fill-color: #AAA;\n",
              "      --disabled-bg-color: #DDD;\n",
              "  }\n",
              "\n",
              "  [theme=dark] .colab-df-quickchart {\n",
              "      --bg-color: #3B4455;\n",
              "      --fill-color: #D2E3FC;\n",
              "      --hover-bg-color: #434B5C;\n",
              "      --hover-fill-color: #FFFFFF;\n",
              "      --disabled-bg-color: #3B4455;\n",
              "      --disabled-fill-color: #666;\n",
              "  }\n",
              "\n",
              "  .colab-df-quickchart {\n",
              "    background-color: var(--bg-color);\n",
              "    border: none;\n",
              "    border-radius: 50%;\n",
              "    cursor: pointer;\n",
              "    display: none;\n",
              "    fill: var(--fill-color);\n",
              "    height: 32px;\n",
              "    padding: 0;\n",
              "    width: 32px;\n",
              "  }\n",
              "\n",
              "  .colab-df-quickchart:hover {\n",
              "    background-color: var(--hover-bg-color);\n",
              "    box-shadow: 0 1px 2px rgba(60, 64, 67, 0.3), 0 1px 3px 1px rgba(60, 64, 67, 0.15);\n",
              "    fill: var(--button-hover-fill-color);\n",
              "  }\n",
              "\n",
              "  .colab-df-quickchart-complete:disabled,\n",
              "  .colab-df-quickchart-complete:disabled:hover {\n",
              "    background-color: var(--disabled-bg-color);\n",
              "    fill: var(--disabled-fill-color);\n",
              "    box-shadow: none;\n",
              "  }\n",
              "\n",
              "  .colab-df-spinner {\n",
              "    border: 2px solid var(--fill-color);\n",
              "    border-color: transparent;\n",
              "    border-bottom-color: var(--fill-color);\n",
              "    animation:\n",
              "      spin 1s steps(1) infinite;\n",
              "  }\n",
              "\n",
              "  @keyframes spin {\n",
              "    0% {\n",
              "      border-color: transparent;\n",
              "      border-bottom-color: var(--fill-color);\n",
              "      border-left-color: var(--fill-color);\n",
              "    }\n",
              "    20% {\n",
              "      border-color: transparent;\n",
              "      border-left-color: var(--fill-color);\n",
              "      border-top-color: var(--fill-color);\n",
              "    }\n",
              "    30% {\n",
              "      border-color: transparent;\n",
              "      border-left-color: var(--fill-color);\n",
              "      border-top-color: var(--fill-color);\n",
              "      border-right-color: var(--fill-color);\n",
              "    }\n",
              "    40% {\n",
              "      border-color: transparent;\n",
              "      border-right-color: var(--fill-color);\n",
              "      border-top-color: var(--fill-color);\n",
              "    }\n",
              "    60% {\n",
              "      border-color: transparent;\n",
              "      border-right-color: var(--fill-color);\n",
              "    }\n",
              "    80% {\n",
              "      border-color: transparent;\n",
              "      border-right-color: var(--fill-color);\n",
              "      border-bottom-color: var(--fill-color);\n",
              "    }\n",
              "    90% {\n",
              "      border-color: transparent;\n",
              "      border-bottom-color: var(--fill-color);\n",
              "    }\n",
              "  }\n",
              "</style>\n",
              "\n",
              "  <script>\n",
              "    async function quickchart(key) {\n",
              "      const quickchartButtonEl =\n",
              "        document.querySelector('#' + key + ' button');\n",
              "      quickchartButtonEl.disabled = true;  // To prevent multiple clicks.\n",
              "      quickchartButtonEl.classList.add('colab-df-spinner');\n",
              "      try {\n",
              "        const charts = await google.colab.kernel.invokeFunction(\n",
              "            'suggestCharts', [key], {});\n",
              "      } catch (error) {\n",
              "        console.error('Error during call to suggestCharts:', error);\n",
              "      }\n",
              "      quickchartButtonEl.classList.remove('colab-df-spinner');\n",
              "      quickchartButtonEl.classList.add('colab-df-quickchart-complete');\n",
              "    }\n",
              "    (() => {\n",
              "      let quickchartButtonEl =\n",
              "        document.querySelector('#df-89c14d2a-26b4-4883-9339-ef4f6327ea04 button');\n",
              "      quickchartButtonEl.style.display =\n",
              "        google.colab.kernel.accessAllowed ? 'block' : 'none';\n",
              "    })();\n",
              "  </script>\n",
              "</div>\n",
              "\n",
              "  <div id=\"id_be89b5d9-f9b9-4786-8b73-4767ba8dcac3\">\n",
              "    <style>\n",
              "      .colab-df-generate {\n",
              "        background-color: #E8F0FE;\n",
              "        border: none;\n",
              "        border-radius: 50%;\n",
              "        cursor: pointer;\n",
              "        display: none;\n",
              "        fill: #1967D2;\n",
              "        height: 32px;\n",
              "        padding: 0 0 0 0;\n",
              "        width: 32px;\n",
              "      }\n",
              "\n",
              "      .colab-df-generate:hover {\n",
              "        background-color: #E2EBFA;\n",
              "        box-shadow: 0px 1px 2px rgba(60, 64, 67, 0.3), 0px 1px 3px 1px rgba(60, 64, 67, 0.15);\n",
              "        fill: #174EA6;\n",
              "      }\n",
              "\n",
              "      [theme=dark] .colab-df-generate {\n",
              "        background-color: #3B4455;\n",
              "        fill: #D2E3FC;\n",
              "      }\n",
              "\n",
              "      [theme=dark] .colab-df-generate:hover {\n",
              "        background-color: #434B5C;\n",
              "        box-shadow: 0px 1px 3px 1px rgba(0, 0, 0, 0.15);\n",
              "        filter: drop-shadow(0px 1px 2px rgba(0, 0, 0, 0.3));\n",
              "        fill: #FFFFFF;\n",
              "      }\n",
              "    </style>\n",
              "    <button class=\"colab-df-generate\" onclick=\"generateWithVariable('val_timeframe')\"\n",
              "            title=\"Generate code using this dataframe.\"\n",
              "            style=\"display:none;\">\n",
              "\n",
              "  <svg xmlns=\"http://www.w3.org/2000/svg\" height=\"24px\"viewBox=\"0 0 24 24\"\n",
              "       width=\"24px\">\n",
              "    <path d=\"M7,19H8.4L18.45,9,17,7.55,7,17.6ZM5,21V16.75L18.45,3.32a2,2,0,0,1,2.83,0l1.4,1.43a1.91,1.91,0,0,1,.58,1.4,1.91,1.91,0,0,1-.58,1.4L9.25,21ZM18.45,9,17,7.55Zm-12,3A5.31,5.31,0,0,0,4.9,8.1,5.31,5.31,0,0,0,1,6.5,5.31,5.31,0,0,0,4.9,4.9,5.31,5.31,0,0,0,6.5,1,5.31,5.31,0,0,0,8.1,4.9,5.31,5.31,0,0,0,12,6.5,5.46,5.46,0,0,0,6.5,12Z\"/>\n",
              "  </svg>\n",
              "    </button>\n",
              "    <script>\n",
              "      (() => {\n",
              "      const buttonEl =\n",
              "        document.querySelector('#id_be89b5d9-f9b9-4786-8b73-4767ba8dcac3 button.colab-df-generate');\n",
              "      buttonEl.style.display =\n",
              "        google.colab.kernel.accessAllowed ? 'block' : 'none';\n",
              "\n",
              "      buttonEl.onclick = () => {\n",
              "        google.colab.notebook.generateWithVariable('val_timeframe');\n",
              "      }\n",
              "      })();\n",
              "    </script>\n",
              "  </div>\n",
              "\n",
              "    </div>\n",
              "  </div>\n"
            ],
            "application/vnd.google.colaboratory.intrinsic+json": {
              "type": "dataframe",
              "variable_name": "val_timeframe",
              "summary": "{\n  \"name\": \"val_timeframe\",\n  \"rows\": 453,\n  \"fields\": [\n    {\n      \"column\": \"Date\",\n      \"properties\": {\n        \"dtype\": \"date\",\n        \"min\": \"2019-01-01 00:00:00\",\n        \"max\": \"2019-05-31 00:00:00\",\n        \"num_unique_values\": 151,\n        \"samples\": [\n          \"2019-03-18 00:00:00\",\n          \"2019-01-19 00:00:00\",\n          \"2019-03-24 00:00:00\"\n        ],\n        \"semantic_type\": \"\",\n        \"description\": \"\"\n      }\n    },\n    {\n      \"column\": \"Platform\",\n      \"properties\": {\n        \"dtype\": \"category\",\n        \"num_unique_values\": 3,\n        \"samples\": [\n          \"ALL\",\n          \"Android(All)\",\n          \"IOS\"\n        ],\n        \"semantic_type\": \"\",\n        \"description\": \"\"\n      }\n    },\n    {\n      \"column\": \"Country\",\n      \"properties\": {\n        \"dtype\": \"category\",\n        \"num_unique_values\": 1,\n        \"samples\": [\n          \"United States(\\u7f8e\\u56fd)\"\n        ],\n        \"semantic_type\": \"\",\n        \"description\": \"\"\n      }\n    },\n    {\n      \"column\": \"TRU\",\n      \"properties\": {\n        \"dtype\": \"number\",\n        \"std\": 12443633.562176771,\n        \"min\": 23088065.0,\n        \"max\": 56686697.0,\n        \"num_unique_values\": 453,\n        \"samples\": [\n          25058252.0\n        ],\n        \"semantic_type\": \"\",\n        \"description\": \"\"\n      }\n    },\n    {\n      \"column\": \"DAU\",\n      \"properties\": {\n        \"dtype\": \"number\",\n        \"std\": 354424.9986585221,\n        \"min\": 451347.0,\n        \"max\": 1757332.0,\n        \"num_unique_values\": 453,\n        \"samples\": [\n          669517.0\n        ],\n        \"semantic_type\": \"\",\n        \"description\": \"\"\n      }\n    },\n    {\n      \"column\": \"NRU\",\n      \"properties\": {\n        \"dtype\": \"number\",\n        \"std\": 18375.16791860424,\n        \"min\": 10064.0,\n        \"max\": 218909.0,\n        \"num_unique_values\": 450,\n        \"samples\": [\n          21926.0\n        ],\n        \"semantic_type\": \"\",\n        \"description\": \"\"\n      }\n    },\n    {\n      \"column\": \"Revenue\",\n      \"properties\": {\n        \"dtype\": \"number\",\n        \"std\": 0.6394336898448568,\n        \"min\": 10.701465358386793,\n        \"max\": 14.47777722580808,\n        \"num_unique_values\": 453,\n        \"samples\": [\n          12.643223128073004\n        ],\n        \"semantic_type\": \"\",\n        \"description\": \"\"\n      }\n    },\n    {\n      \"column\": \"Payer\",\n      \"properties\": {\n        \"dtype\": \"number\",\n        \"std\": 7823.855647042115,\n        \"min\": 3868.0,\n        \"max\": 82135.0,\n        \"num_unique_values\": 451,\n        \"samples\": [\n          16454.0\n        ],\n        \"semantic_type\": \"\",\n        \"description\": \"\"\n      }\n    },\n    {\n      \"column\": \"UC Total Outflow (K)\",\n      \"properties\": {\n        \"dtype\": \"number\",\n        \"std\": 15826.892589969011,\n        \"min\": 1805.0,\n        \"max\": 155307.0,\n        \"num_unique_values\": 453,\n        \"samples\": [\n          18663.0\n        ],\n        \"semantic_type\": \"\",\n        \"description\": \"\"\n      }\n    },\n    {\n      \"column\": \"D1\",\n      \"properties\": {\n        \"dtype\": \"number\",\n        \"std\": 4.599733885857275,\n        \"min\": 17.83,\n        \"max\": 81.71,\n        \"num_unique_values\": 366,\n        \"samples\": [\n          39.98\n        ],\n        \"semantic_type\": \"\",\n        \"description\": \"\"\n      }\n    },\n    {\n      \"column\": \"D7\",\n      \"properties\": {\n        \"dtype\": \"number\",\n        \"std\": 2.227401494084769,\n        \"min\": 7.09,\n        \"max\": 37.52,\n        \"num_unique_values\": 317,\n        \"samples\": [\n          19.37\n        ],\n        \"semantic_type\": \"\",\n        \"description\": \"\"\n      }\n    },\n    {\n      \"column\": \"AOT(min)\",\n      \"properties\": {\n        \"dtype\": \"number\",\n        \"std\": 14.285622911089405,\n        \"min\": 49.7,\n        \"max\": 151.5,\n        \"num_unique_values\": 274,\n        \"samples\": [\n          89.2\n        ],\n        \"semantic_type\": \"\",\n        \"description\": \"\"\n      }\n    },\n    {\n      \"column\": \"Country_code\",\n      \"properties\": {\n        \"dtype\": \"category\",\n        \"num_unique_values\": 1,\n        \"samples\": [\n          \"USA\"\n        ],\n        \"semantic_type\": \"\",\n        \"description\": \"\"\n      }\n    },\n    {\n      \"column\": \"Weekday\",\n      \"properties\": {\n        \"dtype\": \"number\",\n        \"std\": 1,\n        \"min\": 0,\n        \"max\": 6,\n        \"num_unique_values\": 7,\n        \"samples\": [\n          1\n        ],\n        \"semantic_type\": \"\",\n        \"description\": \"\"\n      }\n    },\n    {\n      \"column\": \"month\",\n      \"properties\": {\n        \"dtype\": \"number\",\n        \"std\": 1,\n        \"min\": 1,\n        \"max\": 5,\n        \"num_unique_values\": 5,\n        \"samples\": [\n          2\n        ],\n        \"semantic_type\": \"\",\n        \"description\": \"\"\n      }\n    },\n    {\n      \"column\": \"year\",\n      \"properties\": {\n        \"dtype\": \"number\",\n        \"std\": 0,\n        \"min\": 2019,\n        \"max\": 2019,\n        \"num_unique_values\": 1,\n        \"samples\": [\n          2019\n        ],\n        \"semantic_type\": \"\",\n        \"description\": \"\"\n      }\n    }\n  ]\n}"
            }
          },
          "metadata": {},
          "execution_count": 119
        }
      ]
    },
    {
      "cell_type": "code",
      "source": [
        "val_timeframe = data1[(data1['year'] == 2019)].reset_index()"
      ],
      "metadata": {
        "id": "JowtCSmTyOSZ"
      },
      "execution_count": null,
      "outputs": []
    },
    {
      "cell_type": "code",
      "source": [
        "del val_timeframe['index']"
      ],
      "metadata": {
        "id": "wKDKamc1z6V6"
      },
      "execution_count": null,
      "outputs": []
    },
    {
      "cell_type": "code",
      "source": [],
      "metadata": {
        "id": "SGgH4zls0q0j"
      },
      "execution_count": null,
      "outputs": []
    },
    {
      "cell_type": "code",
      "source": [
        "idx = val_timeframe[(val_timeframe['Country_code'] == 'USA') & (val_timeframe['Platform'] == 'ALL')]['Revenue'].index\n",
        "plt.plot(val_df.loc[idx,'true_Y_test'], label = 'true')\n",
        "plt.plot(val_df.loc[idx,'pred_Y_test'], label = 'predicted')\n",
        "plt.xlabel('Dates')\n",
        "# plt.ylabel(VAR)\n",
        "plt.title('Country: United States, Platform: ALL')\n",
        "plt.legend(loc = 'best')\n",
        "plt.show()"
      ],
      "metadata": {
        "colab": {
          "base_uri": "https://localhost:8080/",
          "height": 472
        },
        "id": "QwAd9Vn5yliF",
        "outputId": "127be7bd-ff01-4dd1-a918-79a3eca9dc16"
      },
      "execution_count": null,
      "outputs": [
        {
          "output_type": "display_data",
          "data": {
            "text/plain": [
              "<Figure size 640x480 with 1 Axes>"
            ],
            "image/png": "[encoded data removed]"
          },
          "metadata": {}
        }
      ]
    }
  ]
}